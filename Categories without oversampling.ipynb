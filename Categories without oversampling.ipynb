{
 "cells": [
  {
   "cell_type": "code",
   "execution_count": 1,
   "id": "d7fb27c6",
   "metadata": {},
   "outputs": [
    {
     "name": "stdout",
     "output_type": "stream",
     "text": [
      "  App_name   Category                               User_Review Sentiments  \\\n",
      "0  brainly  Education  Not working properly plz fix the problem   Negative   \n",
      "1  brainly  Education         App is not good, stuck in between   Negative   \n",
      "2  brainly  Education                      not working properly   Negative   \n",
      "3  brainly  Education                        app is not working   Negative   \n",
      "4  brainly  Education   this app will be not started some issue   Negative   \n",
      "\n",
      "  Review_Type  \n",
      "0          AC  \n",
      "1          AC  \n",
      "2          AC  \n",
      "3          AC  \n",
      "4          AC  \n"
     ]
    }
   ],
   "source": [
    "import sys\n",
    "import nltk\n",
    "import sklearn\n",
    "import pandas\n",
    "import numpy\n",
    "\n",
    "import pandas as pd\n",
    "import numpy as np\n",
    "df = pd.read_csv('Negf.csv')\n",
    "print (df.head(5))"
   ]
  },
  {
   "cell_type": "code",
   "execution_count": 2,
   "id": "68c4d735",
   "metadata": {},
   "outputs": [
    {
     "name": "stdout",
     "output_type": "stream",
     "text": [
      "PI    2403\n",
      "BR    2201\n",
      "AC    1129\n",
      "FI     937\n",
      "CI     873\n",
      "VU     777\n",
      "AI     363\n",
      "FR     223\n",
      "UI     206\n",
      "Name: Review_Type, dtype: int64\n"
     ]
    }
   ],
   "source": [
    "classes = df['Review_Type']\n",
    "print(classes.value_counts())"
   ]
  },
  {
   "cell_type": "code",
   "execution_count": 3,
   "id": "f9430e33",
   "metadata": {},
   "outputs": [
    {
     "name": "stdout",
     "output_type": "stream",
     "text": [
      "0    AC\n",
      "1    AC\n",
      "2    AC\n",
      "3    AC\n",
      "4    AC\n",
      "5    AC\n",
      "6    AC\n",
      "7    AC\n",
      "Name: Review_Type, dtype: object\n",
      "[0 0 0 0 0 0 0 0]\n",
      "0    AC\n",
      "1    AC\n",
      "2    AC\n",
      "3    AC\n",
      "4    AC\n",
      "5    AC\n",
      "6    AC\n",
      "7    AC\n",
      "8    AC\n",
      "9    AC\n",
      "Name: Review_Type, dtype: object\n"
     ]
    }
   ],
   "source": [
    "from sklearn.preprocessing import LabelEncoder\n",
    "encoder = LabelEncoder()\n",
    "Y = encoder.fit_transform (classes)\n",
    "print(classes[:8])\n",
    "print(Y[:8])\n",
    "priority = df['Review_Type']\n",
    "print(priority[:10])"
   ]
  },
  {
   "cell_type": "code",
   "execution_count": 4,
   "id": "df60ff91",
   "metadata": {},
   "outputs": [],
   "source": [
    " #Categorical boolean mask\n",
    "categorical_feature_mask = df.dtypes == object"
   ]
  },
  {
   "cell_type": "code",
   "execution_count": 5,
   "id": "294ad7c1",
   "metadata": {},
   "outputs": [
    {
     "data": {
      "text/plain": [
       "App_name       True\n",
       "Category       True\n",
       "User_Review    True\n",
       "Sentiments     True\n",
       "Review_Type    True\n",
       "dtype: bool"
      ]
     },
     "execution_count": 5,
     "metadata": {},
     "output_type": "execute_result"
    }
   ],
   "source": [
    "categorical_feature_mask\n"
   ]
  },
  {
   "cell_type": "code",
   "execution_count": 6,
   "id": "970bf78f",
   "metadata": {},
   "outputs": [
    {
     "data": {
      "text/plain": [
       "['App_name', 'Category', 'User_Review', 'Sentiments', 'Review_Type']"
      ]
     },
     "execution_count": 6,
     "metadata": {},
     "output_type": "execute_result"
    }
   ],
   "source": [
    "# filter categorical columns using mask and turn it into a list\n",
    "categorical_cols = df.columns[categorical_feature_mask].tolist()\n",
    "categorical_cols"
   ]
  },
  {
   "cell_type": "code",
   "execution_count": 7,
   "id": "b96bd1b2",
   "metadata": {},
   "outputs": [
    {
     "name": "stdout",
     "output_type": "stream",
     "text": [
      "['App_name', 'Category', 'User_Review', 'Sentiments']\n"
     ]
    }
   ],
   "source": [
    "pri_col = []\n",
    "for i in categorical_cols:\n",
    "    if i != 'Review_Type':\n",
    "        pri_col.append(i)\n",
    "print(pri_col)"
   ]
  },
  {
   "cell_type": "code",
   "execution_count": 8,
   "id": "1b00f9e7",
   "metadata": {},
   "outputs": [
    {
     "data": {
      "text/html": [
       "<div>\n",
       "<style scoped>\n",
       "    .dataframe tbody tr th:only-of-type {\n",
       "        vertical-align: middle;\n",
       "    }\n",
       "\n",
       "    .dataframe tbody tr th {\n",
       "        vertical-align: top;\n",
       "    }\n",
       "\n",
       "    .dataframe thead th {\n",
       "        text-align: right;\n",
       "    }\n",
       "</style>\n",
       "<table border=\"1\" class=\"dataframe\">\n",
       "  <thead>\n",
       "    <tr style=\"text-align: right;\">\n",
       "      <th></th>\n",
       "      <th>App_name</th>\n",
       "      <th>Category</th>\n",
       "      <th>User_Review</th>\n",
       "      <th>Sentiments</th>\n",
       "    </tr>\n",
       "  </thead>\n",
       "  <tbody>\n",
       "    <tr>\n",
       "      <th>0</th>\n",
       "      <td>19</td>\n",
       "      <td>0</td>\n",
       "      <td>2755</td>\n",
       "      <td>0</td>\n",
       "    </tr>\n",
       "    <tr>\n",
       "      <th>1</th>\n",
       "      <td>19</td>\n",
       "      <td>0</td>\n",
       "      <td>261</td>\n",
       "      <td>0</td>\n",
       "    </tr>\n",
       "    <tr>\n",
       "      <th>2</th>\n",
       "      <td>19</td>\n",
       "      <td>0</td>\n",
       "      <td>5335</td>\n",
       "      <td>0</td>\n",
       "    </tr>\n",
       "    <tr>\n",
       "      <th>3</th>\n",
       "      <td>19</td>\n",
       "      <td>0</td>\n",
       "      <td>4958</td>\n",
       "      <td>0</td>\n",
       "    </tr>\n",
       "    <tr>\n",
       "      <th>4</th>\n",
       "      <td>19</td>\n",
       "      <td>0</td>\n",
       "      <td>5478</td>\n",
       "      <td>0</td>\n",
       "    </tr>\n",
       "    <tr>\n",
       "      <th>5</th>\n",
       "      <td>19</td>\n",
       "      <td>0</td>\n",
       "      <td>5391</td>\n",
       "      <td>0</td>\n",
       "    </tr>\n",
       "    <tr>\n",
       "      <th>6</th>\n",
       "      <td>19</td>\n",
       "      <td>0</td>\n",
       "      <td>4964</td>\n",
       "      <td>0</td>\n",
       "    </tr>\n",
       "    <tr>\n",
       "      <th>7</th>\n",
       "      <td>19</td>\n",
       "      <td>0</td>\n",
       "      <td>2308</td>\n",
       "      <td>0</td>\n",
       "    </tr>\n",
       "    <tr>\n",
       "      <th>8</th>\n",
       "      <td>19</td>\n",
       "      <td>0</td>\n",
       "      <td>5335</td>\n",
       "      <td>0</td>\n",
       "    </tr>\n",
       "    <tr>\n",
       "      <th>9</th>\n",
       "      <td>19</td>\n",
       "      <td>0</td>\n",
       "      <td>12</td>\n",
       "      <td>0</td>\n",
       "    </tr>\n",
       "  </tbody>\n",
       "</table>\n",
       "</div>"
      ],
      "text/plain": [
       "   App_name  Category  User_Review  Sentiments\n",
       "0        19         0         2755           0\n",
       "1        19         0          261           0\n",
       "2        19         0         5335           0\n",
       "3        19         0         4958           0\n",
       "4        19         0         5478           0\n",
       "5        19         0         5391           0\n",
       "6        19         0         4964           0\n",
       "7        19         0         2308           0\n",
       "8        19         0         5335           0\n",
       "9        19         0           12           0"
      ]
     },
     "execution_count": 8,
     "metadata": {},
     "output_type": "execute_result"
    }
   ],
   "source": [
    "le = LabelEncoder()\n",
    "df[pri_col] = df[pri_col].apply(lambda col: le.fit_transform(col))\n",
    "df[pri_col].head(10)\n"
   ]
  },
  {
   "cell_type": "code",
   "execution_count": 10,
   "id": "86030a0a",
   "metadata": {},
   "outputs": [
    {
     "data": {
      "text/plain": [
       "PI    2403\n",
       "BR    2201\n",
       "AC    1129\n",
       "FI     937\n",
       "CI     873\n",
       "VU     777\n",
       "AI     363\n",
       "FR     223\n",
       "UI     206\n",
       "Name: Review_Type, dtype: int64"
      ]
     },
     "execution_count": 10,
     "metadata": {},
     "output_type": "execute_result"
    }
   ],
   "source": [
    "df.Review_Type.value_counts()\n"
   ]
  },
  {
   "cell_type": "code",
   "execution_count": 11,
   "id": "6b8af3f9",
   "metadata": {},
   "outputs": [],
   "source": [
    "classes = df['Review_Type']\n",
    "print(classes.value_counts())"
   ]
  },
  {
   "cell_type": "code",
   "execution_count": 12,
   "id": "b847b503",
   "metadata": {},
   "outputs": [
    {
     "name": "stdout",
     "output_type": "stream",
     "text": [
      "(9112, 4)\n"
     ]
    }
   ],
   "source": [
    "print(X.shape)\n"
   ]
  },
  {
   "cell_type": "code",
   "execution_count": 13,
   "id": "b6460019",
   "metadata": {},
   "outputs": [],
   "source": [
    "from sklearn.model_selection import train_test_split  \n",
    "X_train, X_test, y_train, y_test = train_test_split(X, Y, test_size=0.2, random_state=0)\n"
   ]
  },
  {
   "cell_type": "code",
   "execution_count": 14,
   "id": "67d2a8b6",
   "metadata": {},
   "outputs": [
    {
     "data": {
      "text/plain": [
       "RandomForestClassifier(random_state=0)"
      ]
     },
     "execution_count": 14,
     "metadata": {},
     "output_type": "execute_result"
    }
   ],
   "source": [
    "from sklearn.ensemble import RandomForestClassifier\n",
    "text_classifier = RandomForestClassifier(n_estimators=100, random_state=0)  \n",
    "text_classifier.fit(X_train, y_train)"
   ]
  },
  {
   "cell_type": "code",
   "execution_count": 15,
   "id": "b5cebfef",
   "metadata": {},
   "outputs": [],
   "source": [
    "predictions = text_classifier.predict(X_test)\n"
   ]
  },
  {
   "cell_type": "code",
   "execution_count": 16,
   "id": "b0da43a4",
   "metadata": {},
   "outputs": [
    {
     "name": "stdout",
     "output_type": "stream",
     "text": [
      "[[206   0   6   2   0   1  11   0   1]\n",
      " [  0  64   2   0   3   0   0   3   0]\n",
      " [  2  10 362  11  37   4   3  10   4]\n",
      " [  8   0   3 149   1   0   2   0   3]\n",
      " [  0   1  37   2 129   0  31   1   0]\n",
      " [  1   2   6   1   0  32   0   0   1]\n",
      " [ 11   1   7   2  20   0 438   0   5]\n",
      " [  2   1   3   3   0   1   0  29   1]\n",
      " [  5   2   2   6  10   2   6   2 112]]\n",
      "              precision    recall  f1-score   support\n",
      "\n",
      "           0       0.88      0.91      0.89       227\n",
      "           1       0.79      0.89      0.84        72\n",
      "           2       0.85      0.82      0.83       443\n",
      "           3       0.85      0.90      0.87       166\n",
      "           4       0.65      0.64      0.64       201\n",
      "           5       0.80      0.74      0.77        43\n",
      "           6       0.89      0.90      0.90       484\n",
      "           7       0.64      0.72      0.68        40\n",
      "           8       0.88      0.76      0.82       147\n",
      "\n",
      "    accuracy                           0.83      1823\n",
      "   macro avg       0.80      0.81      0.80      1823\n",
      "weighted avg       0.84      0.83      0.83      1823\n",
      "\n",
      "0.834339001645639\n"
     ]
    }
   ],
   "source": [
    "from sklearn.metrics import classification_report, confusion_matrix, accuracy_score\n",
    "print(confusion_matrix(y_test,predictions))  \n",
    "print(classification_report(y_test,predictions))  \n",
    "print(accuracy_score(y_test, predictions))"
   ]
  },
  {
   "cell_type": "code",
   "execution_count": 17,
   "id": "45b4726d",
   "metadata": {},
   "outputs": [],
   "source": [
    "from sklearn.naive_bayes import GaussianNB\n",
    "from sklearn import metrics\n",
    "gnb = GaussianNB()\n",
    "gnb.fit(X_train, y_train)\n",
    "y_pred = gnb.predict(X_test)"
   ]
  },
  {
   "cell_type": "code",
   "execution_count": 18,
   "id": "788a056b",
   "metadata": {},
   "outputs": [
    {
     "name": "stdout",
     "output_type": "stream",
     "text": [
      "[[114   0   2  25   0   0  86   0   0]\n",
      " [ 39   0   0  10   0   0  23   0   0]\n",
      " [ 98   0 169  31   0   0 145   0   0]\n",
      " [ 43   0   4  67   0   0  52   0   0]\n",
      " [ 13   0  59  17  12   0 100   0   0]\n",
      " [ 23   0   0  12   0   0   8   0   0]\n",
      " [ 70   0  62  11   0   0 341   0   0]\n",
      " [ 16   0   0   0   0   0  24   0   0]\n",
      " [ 32   0   4  25   0   0  86   0   0]]\n",
      "0.4965773102131854\n",
      "0.4621959237343853\n",
      "0.3988497436404982\n",
      "0.3856280855732309\n",
      "              precision    recall  f1-score   support\n",
      "\n",
      "           0       0.25      0.50      0.34       227\n",
      "           1       1.00      0.00      0.00        72\n",
      "           2       0.56      0.38      0.45       443\n",
      "           3       0.34      0.40      0.37       166\n",
      "           4       1.00      0.06      0.11       201\n",
      "           5       1.00      0.00      0.00        43\n",
      "           6       0.39      0.70      0.51       484\n",
      "           7       1.00      0.00      0.00        40\n",
      "           8       1.00      0.00      0.00       147\n",
      "\n",
      "    accuracy                           0.39      1823\n",
      "   macro avg       0.73      0.23      0.20      1823\n",
      "weighted avg       0.58      0.39      0.33      1823\n",
      "\n"
     ]
    }
   ],
   "source": [
    "print(confusion_matrix(y_test,y_pred))  \n",
    "print(metrics.precision_score(y_test, y_pred, average='weighted', labels=np.unique(y_pred)))\n",
    "print(metrics.recall_score(y_test, y_pred, average='weighted', labels=np.unique(y_pred)))\n",
    "print(metrics.f1_score(y_test, y_pred, average='weighted', labels=np.unique(y_pred)))\n",
    "print(metrics.accuracy_score(y_test, y_pred))\n",
    "print(classification_report(y_test,y_pred,zero_division=1))  "
   ]
  },
  {
   "cell_type": "code",
   "execution_count": 19,
   "id": "4031a223",
   "metadata": {},
   "outputs": [],
   "source": [
    "from sklearn.linear_model import LogisticRegression\n",
    "from sklearn.metrics import accuracy_score\n",
    "logreg = LogisticRegression(solver='liblinear', random_state=0)\n",
    "#fit the model\n",
    "logreg.fit(X_train, y_train)\n",
    "y_pred_test = logreg.predict(X_test)"
   ]
  },
  {
   "cell_type": "code",
   "execution_count": 20,
   "id": "16a86f2f",
   "metadata": {},
   "outputs": [
    {
     "name": "stdout",
     "output_type": "stream",
     "text": [
      "[[ 12   0  40  24   0   0 151   0   0]\n",
      " [ 35   0   2  10   0   0  25   0   0]\n",
      " [101   0  31  20   0   0 291   0   0]\n",
      " [ 13   0  13  60   0   0  80   0   0]\n",
      " [  2   0  19  17  12   0 151   0   0]\n",
      " [ 12   0   5  10   0   0  16   0   0]\n",
      " [ 26   0  50  11   0   0 397   0   0]\n",
      " [  5   0   5   0   0   0  30   0   0]\n",
      " [ 31   0  19  15   0   0  82   0   0]]\n",
      "0.4965773102131854\n",
      "0.4621959237343853\n",
      "0.3988497436404982\n",
      "0.3856280855732309\n",
      "              precision    recall  f1-score   support\n",
      "\n",
      "           0       0.05      0.05      0.05       227\n",
      "           1       1.00      0.00      0.00        72\n",
      "           2       0.17      0.07      0.10       443\n",
      "           3       0.36      0.36      0.36       166\n",
      "           4       1.00      0.06      0.11       201\n",
      "           5       1.00      0.00      0.00        43\n",
      "           6       0.32      0.82      0.47       484\n",
      "           7       1.00      0.00      0.00        40\n",
      "           8       1.00      0.00      0.00       147\n",
      "\n",
      "    accuracy                           0.28      1823\n",
      "   macro avg       0.66      0.15      0.12      1823\n",
      "weighted avg       0.44      0.28      0.20      1823\n",
      "\n"
     ]
    }
   ],
   "source": [
    "from sklearn.metrics import classification_report, confusion_matrix, accuracy_score\n",
    "print(confusion_matrix(y_test,y_pred_test))  \n",
    "print(metrics.precision_score(y_test, y_pred, average='weighted', labels=np.unique(y_pred)))\n",
    "print(metrics.recall_score(y_test, y_pred, average='weighted', labels=np.unique(y_pred)))\n",
    "print(metrics.f1_score(y_test, y_pred, average='weighted', labels=np.unique(y_pred)))\n",
    "print(metrics.accuracy_score(y_test, y_pred))\n",
    "print(classification_report(y_test,y_pred_test,zero_division=1))  "
   ]
  },
  {
   "cell_type": "code",
   "execution_count": 21,
   "id": "d95ea28b",
   "metadata": {},
   "outputs": [
    {
     "name": "stdout",
     "output_type": "stream",
     "text": [
      "Accuracy: 0.832144816236972\n"
     ]
    }
   ],
   "source": [
    "    from sklearn.tree import DecisionTreeClassifier \n",
    "dtree_model = DecisionTreeClassifier(criterion = 'entropy').fit(X_train, y_train) \n",
    "dtree_predictions = dtree_model.predict(X_test) \n",
    "print(\"Accuracy:\",metrics.accuracy_score(y_test, dtree_predictions))"
   ]
  },
  {
   "cell_type": "code",
   "execution_count": 22,
   "id": "e5f3b379",
   "metadata": {},
   "outputs": [
    {
     "name": "stdout",
     "output_type": "stream",
     "text": [
      "[[206   0   6   2   0   1  11   0   1]\n",
      " [  0  64   2   0   3   0   0   3   0]\n",
      " [  2  10 361  13  37   4   3   9   4]\n",
      " [  8   0   2 150   1   0   2   0   3]\n",
      " [  0   0  37   2 131   0  30   1   0]\n",
      " [  1   2   6   1   0  32   0   0   1]\n",
      " [ 11   1   7   2  25   0 433   0   5]\n",
      " [  2   1   5   2   0   1   0  28   1]\n",
      " [  5   1   3   6  11   2   5   2 112]]\n",
      "              precision    recall  f1-score   support\n",
      "\n",
      "           0       0.88      0.91      0.89       227\n",
      "           1       0.81      0.89      0.85        72\n",
      "           2       0.84      0.81      0.83       443\n",
      "           3       0.84      0.90      0.87       166\n",
      "           4       0.63      0.65      0.64       201\n",
      "           5       0.80      0.74      0.77        43\n",
      "           6       0.89      0.89      0.89       484\n",
      "           7       0.65      0.70      0.67        40\n",
      "           8       0.88      0.76      0.82       147\n",
      "\n",
      "    accuracy                           0.83      1823\n",
      "   macro avg       0.80      0.81      0.80      1823\n",
      "weighted avg       0.83      0.83      0.83      1823\n",
      "\n",
      "0.832144816236972\n"
     ]
    }
   ],
   "source": [
    "from sklearn.metrics import classification_report, confusion_matrix, accuracy_score\n",
    "print(confusion_matrix(y_test,dtree_predictions))  \n",
    "print(classification_report(y_test,dtree_predictions))  \n",
    "print(accuracy_score(y_test, dtree_predictions))\n"
   ]
  },
  {
   "cell_type": "code",
   "execution_count": 44,
   "id": "84052139",
   "metadata": {},
   "outputs": [
    {
     "data": {
      "text/plain": [
       "<AxesSubplot:xlabel='Review_Type', ylabel='count'>"
      ]
     },
     "execution_count": 44,
     "metadata": {},
     "output_type": "execute_result"
    },
    {
     "data": {
      "image/png": "[encoded data removed]",
      "text/plain": [
       "<Figure size 432x288 with 1 Axes>"
      ]
     },
     "metadata": {
      "needs_background": "light"
     },
     "output_type": "display_data"
    }
   ],
   "source": [
    "import seaborn as sns\n",
    "\n",
    "sns.countplot(x='Review_Type', data=df)"
   ]
  },
  {
   "cell_type": "code",
   "execution_count": null,
   "id": "171ab470",
   "metadata": {},
   "outputs": [],
   "source": []
  }
 ],
 "metadata": {
  "kernelspec": {
   "display_name": "Python 3",
   "language": "python",
   "name": "python3"
  },
  "language_info": {
   "codemirror_mode": {
    "name": "ipython",
    "version": 3
   },
   "file_extension": ".py",
   "mimetype": "text/x-python",
   "name": "python",
   "nbconvert_exporter": "python",
   "pygments_lexer": "ipython3",
   "version": "3.8.8"
  }
 },
 "nbformat": 4,
 "nbformat_minor": 5
}
