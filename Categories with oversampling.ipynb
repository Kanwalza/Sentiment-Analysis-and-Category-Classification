{
 "cells": [
  {
   "cell_type": "code",
   "execution_count": 1,
   "id": "5ec62fd1",
   "metadata": {},
   "outputs": [
    {
     "name": "stdout",
     "output_type": "stream",
     "text": [
      "  App_name   Category                               User_Review Sentiments  \\\n",
      "0  brainly  Education  Not working properly plz fix the problem   Negative   \n",
      "1  brainly  Education         App is not good, stuck in between   Negative   \n",
      "2  brainly  Education                      not working properly   Negative   \n",
      "\n",
      "  Review_Type  \n",
      "0          AC  \n",
      "1          AC  \n",
      "2          AC  \n"
     ]
    }
   ],
   "source": [
    "import sys\n",
    "import nltk\n",
    "import sklearn\n",
    "import pandas\n",
    "import numpy\n",
    "\n",
    "import pandas as pd\n",
    "import numpy as np\n",
    "df = pd.read_csv('Negf.csv')\n",
    "print (df.head(3))"
   ]
  },
  {
   "cell_type": "code",
   "execution_count": 2,
   "id": "5ae3c08e",
   "metadata": {},
   "outputs": [
    {
     "name": "stdout",
     "output_type": "stream",
     "text": [
      "PI    2403\n",
      "BR    2201\n",
      "AC    1129\n",
      "FI     937\n",
      "CI     873\n",
      "VU     777\n",
      "AI     363\n",
      "FR     223\n",
      "UI     206\n",
      "Name: Review_Type, dtype: int64\n"
     ]
    }
   ],
   "source": [
    "classes = df['Review_Type']\n",
    "print(classes.value_counts())"
   ]
  },
  {
   "cell_type": "code",
   "execution_count": 3,
   "id": "92f3c09e",
   "metadata": {},
   "outputs": [
    {
     "name": "stdout",
     "output_type": "stream",
     "text": [
      "0    AC\n",
      "1    AC\n",
      "2    AC\n",
      "3    AC\n",
      "4    AC\n",
      "5    AC\n",
      "6    AC\n",
      "7    AC\n",
      "Name: Review_Type, dtype: object\n",
      "[0 0 0 0 0 0 0 0]\n",
      "0    AC\n",
      "1    AC\n",
      "2    AC\n",
      "3    AC\n",
      "4    AC\n",
      "5    AC\n",
      "6    AC\n",
      "7    AC\n",
      "8    AC\n",
      "9    AC\n",
      "Name: Review_Type, dtype: object\n"
     ]
    }
   ],
   "source": [
    "from sklearn.preprocessing import LabelEncoder\n",
    "encoder = LabelEncoder()\n",
    "Y = encoder.fit_transform (classes)\n",
    "print(classes[:8])\n",
    "print(Y[:8])\n",
    "priority = df['Review_Type']\n",
    "print(priority[:10])\n"
   ]
  },
  {
   "cell_type": "code",
   "execution_count": 4,
   "id": "14f029c0",
   "metadata": {},
   "outputs": [],
   "source": [
    "# Categorical boolean mask\n",
    "categorical_feature_mask = df.dtypes == object"
   ]
  },
  {
   "cell_type": "code",
   "execution_count": 5,
   "id": "1dcbb136",
   "metadata": {},
   "outputs": [
    {
     "data": {
      "text/plain": [
       "App_name       True\n",
       "Category       True\n",
       "User_Review    True\n",
       "Sentiments     True\n",
       "Review_Type    True\n",
       "dtype: bool"
      ]
     },
     "execution_count": 5,
     "metadata": {},
     "output_type": "execute_result"
    }
   ],
   "source": [
    "categorical_feature_mask\n"
   ]
  },
  {
   "cell_type": "code",
   "execution_count": 6,
   "id": "279c66e5",
   "metadata": {},
   "outputs": [
    {
     "data": {
      "text/plain": [
       "['App_name', 'Category', 'User_Review', 'Sentiments', 'Review_Type']"
      ]
     },
     "execution_count": 6,
     "metadata": {},
     "output_type": "execute_result"
    }
   ],
   "source": [
    "# filter categorical columns using mask and turn it into a list\n",
    "categorical_cols = df.columns[categorical_feature_mask].tolist()\n",
    "categorical_cols"
   ]
  },
  {
   "cell_type": "code",
   "execution_count": 7,
   "id": "13edd785",
   "metadata": {},
   "outputs": [
    {
     "name": "stdout",
     "output_type": "stream",
     "text": [
      "['App_name', 'Category', 'User_Review', 'Sentiments', 'Review_Type']\n"
     ]
    }
   ],
   "source": [
    "pri_col = []\n",
    "for i in categorical_cols:\n",
    "    if i != 'Summary':\n",
    "        pri_col.append(i)\n",
    "print(pri_col)"
   ]
  },
  {
   "cell_type": "code",
   "execution_count": 8,
   "id": "d3020d3d",
   "metadata": {},
   "outputs": [
    {
     "data": {
      "text/html": [
       "<div>\n",
       "<style scoped>\n",
       "    .dataframe tbody tr th:only-of-type {\n",
       "        vertical-align: middle;\n",
       "    }\n",
       "\n",
       "    .dataframe tbody tr th {\n",
       "        vertical-align: top;\n",
       "    }\n",
       "\n",
       "    .dataframe thead th {\n",
       "        text-align: right;\n",
       "    }\n",
       "</style>\n",
       "<table border=\"1\" class=\"dataframe\">\n",
       "  <thead>\n",
       "    <tr style=\"text-align: right;\">\n",
       "      <th></th>\n",
       "      <th>App_name</th>\n",
       "      <th>Category</th>\n",
       "      <th>User_Review</th>\n",
       "      <th>Sentiments</th>\n",
       "      <th>Review_Type</th>\n",
       "    </tr>\n",
       "  </thead>\n",
       "  <tbody>\n",
       "    <tr>\n",
       "      <th>0</th>\n",
       "      <td>19</td>\n",
       "      <td>0</td>\n",
       "      <td>2755</td>\n",
       "      <td>0</td>\n",
       "      <td>0</td>\n",
       "    </tr>\n",
       "    <tr>\n",
       "      <th>1</th>\n",
       "      <td>19</td>\n",
       "      <td>0</td>\n",
       "      <td>261</td>\n",
       "      <td>0</td>\n",
       "      <td>0</td>\n",
       "    </tr>\n",
       "    <tr>\n",
       "      <th>2</th>\n",
       "      <td>19</td>\n",
       "      <td>0</td>\n",
       "      <td>5335</td>\n",
       "      <td>0</td>\n",
       "      <td>0</td>\n",
       "    </tr>\n",
       "    <tr>\n",
       "      <th>3</th>\n",
       "      <td>19</td>\n",
       "      <td>0</td>\n",
       "      <td>4958</td>\n",
       "      <td>0</td>\n",
       "      <td>0</td>\n",
       "    </tr>\n",
       "    <tr>\n",
       "      <th>4</th>\n",
       "      <td>19</td>\n",
       "      <td>0</td>\n",
       "      <td>5478</td>\n",
       "      <td>0</td>\n",
       "      <td>0</td>\n",
       "    </tr>\n",
       "    <tr>\n",
       "      <th>5</th>\n",
       "      <td>19</td>\n",
       "      <td>0</td>\n",
       "      <td>5391</td>\n",
       "      <td>0</td>\n",
       "      <td>0</td>\n",
       "    </tr>\n",
       "    <tr>\n",
       "      <th>6</th>\n",
       "      <td>19</td>\n",
       "      <td>0</td>\n",
       "      <td>4964</td>\n",
       "      <td>0</td>\n",
       "      <td>0</td>\n",
       "    </tr>\n",
       "    <tr>\n",
       "      <th>7</th>\n",
       "      <td>19</td>\n",
       "      <td>0</td>\n",
       "      <td>2308</td>\n",
       "      <td>0</td>\n",
       "      <td>0</td>\n",
       "    </tr>\n",
       "    <tr>\n",
       "      <th>8</th>\n",
       "      <td>19</td>\n",
       "      <td>0</td>\n",
       "      <td>5335</td>\n",
       "      <td>0</td>\n",
       "      <td>0</td>\n",
       "    </tr>\n",
       "    <tr>\n",
       "      <th>9</th>\n",
       "      <td>19</td>\n",
       "      <td>0</td>\n",
       "      <td>12</td>\n",
       "      <td>0</td>\n",
       "      <td>0</td>\n",
       "    </tr>\n",
       "  </tbody>\n",
       "</table>\n",
       "</div>"
      ],
      "text/plain": [
       "   App_name  Category  User_Review  Sentiments  Review_Type\n",
       "0        19         0         2755           0            0\n",
       "1        19         0          261           0            0\n",
       "2        19         0         5335           0            0\n",
       "3        19         0         4958           0            0\n",
       "4        19         0         5478           0            0\n",
       "5        19         0         5391           0            0\n",
       "6        19         0         4964           0            0\n",
       "7        19         0         2308           0            0\n",
       "8        19         0         5335           0            0\n",
       "9        19         0           12           0            0"
      ]
     },
     "execution_count": 8,
     "metadata": {},
     "output_type": "execute_result"
    }
   ],
   "source": [
    "le = LabelEncoder()\n",
    "df[pri_col] = df[pri_col].apply(lambda col: le.fit_transform(col))\n",
    "df[pri_col].head(10)\n"
   ]
  },
  {
   "cell_type": "code",
   "execution_count": 9,
   "id": "52e6a7c3",
   "metadata": {},
   "outputs": [
    {
     "data": {
      "text/plain": [
       "6    2403\n",
       "2    2201\n",
       "0    1129\n",
       "4     937\n",
       "3     873\n",
       "8     777\n",
       "1     363\n",
       "5     223\n",
       "7     206\n",
       "Name: Review_Type, dtype: int64"
      ]
     },
     "execution_count": 9,
     "metadata": {},
     "output_type": "execute_result"
    }
   ],
   "source": [
    "df.Review_Type.value_counts()"
   ]
  },
  {
   "cell_type": "code",
   "execution_count": 10,
   "id": "1822f91e",
   "metadata": {},
   "outputs": [],
   "source": [
    "from sklearn.utils import resample\n",
    "df_minority0 = df[df.Review_Type==0]\n",
    "df_minority1 = df[df.Review_Type==4]\n",
    "df_minority2 = df[df.Review_Type==3]\n",
    "df_minority3 = df[df.Review_Type==8]\n",
    "df_minority4 = df[df.Review_Type==1]\n",
    "df_minority5 = df[df.Review_Type==5]\n",
    "df_minority6 = df[df.Review_Type==7]\n"
   ]
  },
  {
   "cell_type": "code",
   "execution_count": 11,
   "id": "40ed8d68",
   "metadata": {},
   "outputs": [],
   "source": [
    "df_minority_upsampled0 = resample(df_minority0, \n",
    "                                 replace=True,     # sample with replacement\n",
    "                                 n_samples=950)    # to match majority class\n",
    "df_minority_upsampled1 = resample(df_minority4, \n",
    "                                 replace=True,     # sample with replacement\n",
    "                                 n_samples=1200)    # to match majority class\n",
    "df_minority_upsampled2 = resample(df_minority3, \n",
    "                                 replace=True,     # sample with replacement\n",
    "                                 n_samples=1300)    # to match majority class\n",
    "df_minority_upsampled3 = resample(df_minority1, \n",
    "                                 replace=True,     # sample with replacement\n",
    "                                 n_samples=1800)\n",
    "df_minority_upsampled4 = resample(df_minority5, \n",
    "                                 replace=True,     # sample with replacement\n",
    "                                 n_samples=1800)\n",
    "df_minority_upsampled5 = resample(df_minority6, \n",
    "                                 replace=True,     # sample with replacement\n",
    "                                 n_samples=1800)"
   ]
  },
  {
   "cell_type": "code",
   "execution_count": 12,
   "id": "058e06ac",
   "metadata": {},
   "outputs": [],
   "source": [
    "df = pd.concat([df, df_minority_upsampled0, df_minority_upsampled1, df_minority_upsampled2, df_minority_upsampled3, df_minority_upsampled4, df_minority_upsampled5])\n"
   ]
  },
  {
   "cell_type": "code",
   "execution_count": 13,
   "id": "79104777",
   "metadata": {},
   "outputs": [
    {
     "data": {
      "text/plain": [
       "4    2737\n",
       "6    2403\n",
       "2    2201\n",
       "0    2079\n",
       "8    2077\n",
       "5    2023\n",
       "7    2006\n",
       "1    1563\n",
       "3     873\n",
       "Name: Review_Type, dtype: int64"
      ]
     },
     "execution_count": 13,
     "metadata": {},
     "output_type": "execute_result"
    }
   ],
   "source": [
    "df.Review_Type.value_counts()\n"
   ]
  },
  {
   "cell_type": "code",
   "execution_count": 14,
   "id": "1edc6e62",
   "metadata": {},
   "outputs": [],
   "source": [
    "df_minority_upsampled6 = resample(df_minority2, \n",
    "                                 replace=True,     # sample with replacement\n",
    "                                 n_samples=1800)"
   ]
  },
  {
   "cell_type": "code",
   "execution_count": 15,
   "id": "11ed2f66",
   "metadata": {},
   "outputs": [],
   "source": [
    "df = pd.concat([df, df_minority_upsampled6])\n"
   ]
  },
  {
   "cell_type": "code",
   "execution_count": 16,
   "id": "eda3aa04",
   "metadata": {},
   "outputs": [
    {
     "data": {
      "text/plain": [
       "4    2737\n",
       "3    2673\n",
       "6    2403\n",
       "2    2201\n",
       "0    2079\n",
       "8    2077\n",
       "5    2023\n",
       "7    2006\n",
       "1    1563\n",
       "Name: Review_Type, dtype: int64"
      ]
     },
     "execution_count": 16,
     "metadata": {},
     "output_type": "execute_result"
    }
   ],
   "source": [
    "df.Review_Type.value_counts()\n"
   ]
  },
  {
   "cell_type": "code",
   "execution_count": 17,
   "id": "cc67f6b4",
   "metadata": {},
   "outputs": [],
   "source": [
    "X  = df[['User_Review']]\n"
   ]
  },
  {
   "cell_type": "code",
   "execution_count": 18,
   "id": "216a61ee",
   "metadata": {},
   "outputs": [
    {
     "name": "stdout",
     "output_type": "stream",
     "text": [
      "(19762, 1)\n"
     ]
    }
   ],
   "source": [
    "print(X.shape)\n"
   ]
  },
  {
   "cell_type": "code",
   "execution_count": 19,
   "id": "1a147186",
   "metadata": {},
   "outputs": [],
   "source": [
    "Y = df['Review_Type']\n"
   ]
  },
  {
   "cell_type": "code",
   "execution_count": 20,
   "id": "2c6ae9c4",
   "metadata": {},
   "outputs": [],
   "source": [
    "from sklearn.model_selection import train_test_split  \n",
    "X_train, X_test, y_train, y_test = train_test_split(X, Y, test_size=0.2, random_state=0)\n"
   ]
  },
  {
   "cell_type": "code",
   "execution_count": 21,
   "id": "653c39da",
   "metadata": {},
   "outputs": [
    {
     "name": "stdout",
     "output_type": "stream",
     "text": [
      "4    2737\n",
      "3    2673\n",
      "6    2403\n",
      "2    2201\n",
      "0    2079\n",
      "8    2077\n",
      "5    2023\n",
      "7    2006\n",
      "1    1563\n",
      "Name: Review_Type, dtype: int64\n"
     ]
    }
   ],
   "source": [
    "print(Y.value_counts())\n"
   ]
  },
  {
   "cell_type": "code",
   "execution_count": null,
   "id": "dbf1b34b",
   "metadata": {},
   "outputs": [],
   "source": [
    "from sklearn.ensemble import RandomForestClassifier\n",
    "text_classifier = RandomForestClassifier(n_estimators=100, random_state=0)  \n",
    "text_classifier.fit(X_train, y_train)"
   ]
  },
  {
   "cell_type": "code",
   "execution_count": null,
   "id": "a32fb4d0",
   "metadata": {},
   "outputs": [],
   "source": [
    "predictions = text_classifier.predict(X_test)\n"
   ]
  },
  {
   "cell_type": "code",
   "execution_count": null,
   "id": "abbdcd92",
   "metadata": {},
   "outputs": [],
   "source": [
    "from sklearn.metrics import classification_report, confusion_matrix, accuracy_score\n",
    "print(confusion_matrix(y_test,predictions))  \n",
    "print(classification_report(y_test,predictions))  \n",
    "print(accuracy_score(y_test, predictions))\n"
   ]
  },
  {
   "cell_type": "code",
   "execution_count": null,
   "id": "ab329454",
   "metadata": {},
   "outputs": [],
   "source": [
    "from sklearn.naive_bayes import GaussianNB\n",
    "from sklearn import metrics\n",
    "gnb = GaussianNB()\n",
    "gnb.fit(X_train, y_train)\n",
    "y_pred = gnb.predict(X_test)\n"
   ]
  },
  {
   "cell_type": "code",
   "execution_count": null,
   "id": "3779eeeb",
   "metadata": {},
   "outputs": [],
   "source": [
    "print(confusion_matrix(y_test,y_pred))  \n",
    "print(metrics.accuracy_score(y_test, y_pred))\n",
    "print(classification_report(y_test,y_pred))  \n"
   ]
  },
  {
   "cell_type": "code",
   "execution_count": null,
   "id": "34f0c828",
   "metadata": {},
   "outputs": [],
   "source": [
    "from sklearn.linear_model import LogisticRegression\n",
    "from sklearn.metrics import accuracy_score\n",
    "logreg = LogisticRegression(solver='liblinear', random_state=0)\n",
    "#fit the model\n",
    "logreg.fit(X_train, y_train)\n",
    "y_pred_test = logreg.predict(X_test)\n"
   ]
  },
  {
   "cell_type": "code",
   "execution_count": null,
   "id": "c43ac946",
   "metadata": {},
   "outputs": [],
   "source": [
    "from sklearn.metrics import classification_report, confusion_matrix, accuracy_score\n",
    "print(confusion_matrix(y_test,y_pred_test))  \n",
    "print(metrics.accuracy_score(y_test, y_pred_test))\n",
    "print(classification_report(y_test,y_pred_test))"
   ]
  },
  {
   "cell_type": "code",
   "execution_count": null,
   "id": "4a3d8250",
   "metadata": {},
   "outputs": [],
   "source": [
    "from sklearn.tree import DecisionTreeClassifier \n",
    "dtree_model = DecisionTreeClassifier(criterion = 'entropy').fit(X_train, y_train) \n",
    "dtree_predictions = dtree_model.predict(X_test) \n",
    "print(\"Accuracy:\",metrics.accuracy_score(y_test, dtree_predictions))\n"
   ]
  },
  {
   "cell_type": "code",
   "execution_count": null,
   "id": "afcbc612",
   "metadata": {},
   "outputs": [],
   "source": [
    "from sklearn.metrics import classification_report, confusion_matrix, accuracy_score\n",
    "print(confusion_matrix(y_test,dtree_predictions))  \n",
    "print(classification_report(y_test,dtree_predictions))  \n"
   ]
  },
  {
   "cell_type": "code",
   "execution_count": null,
   "id": "85e23f27",
   "metadata": {},
   "outputs": [],
   "source": [
    "from sklearn import svm\n",
    "#Create a svm Classifier\n",
    "clf = svm.SVC(kernel='linear') # Linear Kernel\n",
    "#Train the model using the training sets\n",
    "clf.fit(X_train, y_train)\n",
    "#Predict the response for test dataset\n",
    "y_pred = clf.predict(X_test)\n",
    "\n"
   ]
  },
  {
   "cell_type": "code",
   "execution_count": null,
   "id": "460b1629",
   "metadata": {},
   "outputs": [],
   "source": [
    "#Import scikit-learn metrics module for accuracy calculation\n",
    "from sklearn import metrics\n",
    "\n",
    "# Model Accuracy: how often is the classifier correct?\n",
    "print(\"Accuracy:\",metrics.accuracy_score(y_test, y_pred))\n"
   ]
  }
 ],
 "metadata": {
  "kernelspec": {
   "display_name": "Python 3",
   "language": "python",
   "name": "python3"
  },
  "language_info": {
   "codemirror_mode": {
    "name": "ipython",
    "version": 3
   },
   "file_extension": ".py",
   "mimetype": "text/x-python",
   "name": "python",
   "nbconvert_exporter": "python",
   "pygments_lexer": "ipython3",
   "version": "3.8.8"
  }
 },
 "nbformat": 4,
 "nbformat_minor": 5
}
