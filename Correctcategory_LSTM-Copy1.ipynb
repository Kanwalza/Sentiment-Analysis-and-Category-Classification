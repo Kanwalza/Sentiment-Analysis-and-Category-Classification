{
 "cells": [
  {
   "cell_type": "code",
   "execution_count": 4,
   "metadata": {},
   "outputs": [],
   "source": [
    "import numpy as np\n",
    "import pandas as pd\n",
    "import matplotlib.pyplot as plt\n",
    "import re\n",
    "\n",
    "from keras.preprocessing.text import Tokenizer\n",
    "from keras.preprocessing.sequence import pad_sequences\n",
    "from keras.models import Sequential\n",
    "from keras.layers import Dense, Embedding, LSTM, SimpleRNN, SpatialDropout1D\n",
    "\n",
    "from sklearn.model_selection import train_test_split\n",
    "from sklearn import metrics"
   ]
  },
  {
   "cell_type": "code",
   "execution_count": 5,
   "metadata": {},
   "outputs": [
    {
     "data": {
      "text/html": [
       "<div>\n",
       "<style scoped>\n",
       "    .dataframe tbody tr th:only-of-type {\n",
       "        vertical-align: middle;\n",
       "    }\n",
       "\n",
       "    .dataframe tbody tr th {\n",
       "        vertical-align: top;\n",
       "    }\n",
       "\n",
       "    .dataframe thead th {\n",
       "        text-align: right;\n",
       "    }\n",
       "</style>\n",
       "<table border=\"1\" class=\"dataframe\">\n",
       "  <thead>\n",
       "    <tr style=\"text-align: right;\">\n",
       "      <th></th>\n",
       "      <th>App_name</th>\n",
       "      <th>Category</th>\n",
       "      <th>User_Review</th>\n",
       "      <th>Sentiments</th>\n",
       "      <th>Review_Type</th>\n",
       "    </tr>\n",
       "  </thead>\n",
       "  <tbody>\n",
       "    <tr>\n",
       "      <th>0</th>\n",
       "      <td>brainly</td>\n",
       "      <td>Education</td>\n",
       "      <td>Not working properly plz fix the problem</td>\n",
       "      <td>Negative</td>\n",
       "      <td>AC</td>\n",
       "    </tr>\n",
       "    <tr>\n",
       "      <th>1</th>\n",
       "      <td>brainly</td>\n",
       "      <td>Education</td>\n",
       "      <td>App is not good, stuck in between</td>\n",
       "      <td>Negative</td>\n",
       "      <td>AC</td>\n",
       "    </tr>\n",
       "    <tr>\n",
       "      <th>2</th>\n",
       "      <td>brainly</td>\n",
       "      <td>Education</td>\n",
       "      <td>not working properly</td>\n",
       "      <td>Negative</td>\n",
       "      <td>AC</td>\n",
       "    </tr>\n",
       "    <tr>\n",
       "      <th>3</th>\n",
       "      <td>brainly</td>\n",
       "      <td>Education</td>\n",
       "      <td>app is not working</td>\n",
       "      <td>Negative</td>\n",
       "      <td>AC</td>\n",
       "    </tr>\n",
       "    <tr>\n",
       "      <th>4</th>\n",
       "      <td>brainly</td>\n",
       "      <td>Education</td>\n",
       "      <td>this app will be not started some issue</td>\n",
       "      <td>Negative</td>\n",
       "      <td>AC</td>\n",
       "    </tr>\n",
       "  </tbody>\n",
       "</table>\n",
       "</div>"
      ],
      "text/plain": [
       "  App_name   Category                               User_Review Sentiments  \\\n",
       "0  brainly  Education  Not working properly plz fix the problem   Negative   \n",
       "1  brainly  Education         App is not good, stuck in between   Negative   \n",
       "2  brainly  Education                      not working properly   Negative   \n",
       "3  brainly  Education                        app is not working   Negative   \n",
       "4  brainly  Education   this app will be not started some issue   Negative   \n",
       "\n",
       "  Review_Type  \n",
       "0          AC  \n",
       "1          AC  \n",
       "2          AC  \n",
       "3          AC  \n",
       "4          AC  "
      ]
     },
     "execution_count": 5,
     "metadata": {},
     "output_type": "execute_result"
    }
   ],
   "source": [
    "data = pd.read_csv(\"Nega.csv\")\n",
    "data.head()"
   ]
  },
  {
   "cell_type": "code",
   "execution_count": 6,
   "metadata": {},
   "outputs": [
    {
     "name": "stdout",
     "output_type": "stream",
     "text": [
      "Negative    9112\n",
      "Name: Sentiments, dtype: int64\n"
     ]
    }
   ],
   "source": [
    "classes = data['Sentiments']\n",
    "print(classes.value_counts())"
   ]
  },
  {
   "cell_type": "code",
   "execution_count": 4,
   "metadata": {},
   "outputs": [
    {
     "data": {
      "text/plain": [
       "(9112, 5)"
      ]
     },
     "execution_count": 4,
     "metadata": {},
     "output_type": "execute_result"
    }
   ],
   "source": [
    "data.shape"
   ]
  },
  {
   "cell_type": "code",
   "execution_count": 7,
   "metadata": {},
   "outputs": [
    {
     "data": {
      "text/html": [
       "<div>\n",
       "<style scoped>\n",
       "    .dataframe tbody tr th:only-of-type {\n",
       "        vertical-align: middle;\n",
       "    }\n",
       "\n",
       "    .dataframe tbody tr th {\n",
       "        vertical-align: top;\n",
       "    }\n",
       "\n",
       "    .dataframe thead th {\n",
       "        text-align: right;\n",
       "    }\n",
       "</style>\n",
       "<table border=\"1\" class=\"dataframe\">\n",
       "  <thead>\n",
       "    <tr style=\"text-align: right;\">\n",
       "      <th></th>\n",
       "      <th>User_Review</th>\n",
       "      <th>Review_Type</th>\n",
       "    </tr>\n",
       "  </thead>\n",
       "  <tbody>\n",
       "    <tr>\n",
       "      <th>0</th>\n",
       "      <td>Not working properly plz fix the problem</td>\n",
       "      <td>AC</td>\n",
       "    </tr>\n",
       "    <tr>\n",
       "      <th>1</th>\n",
       "      <td>App is not good, stuck in between</td>\n",
       "      <td>AC</td>\n",
       "    </tr>\n",
       "    <tr>\n",
       "      <th>2</th>\n",
       "      <td>not working properly</td>\n",
       "      <td>AC</td>\n",
       "    </tr>\n",
       "    <tr>\n",
       "      <th>3</th>\n",
       "      <td>app is not working</td>\n",
       "      <td>AC</td>\n",
       "    </tr>\n",
       "    <tr>\n",
       "      <th>4</th>\n",
       "      <td>this app will be not started some issue</td>\n",
       "      <td>AC</td>\n",
       "    </tr>\n",
       "  </tbody>\n",
       "</table>\n",
       "</div>"
      ],
      "text/plain": [
       "                                User_Review Review_Type\n",
       "0  Not working properly plz fix the problem          AC\n",
       "1         App is not good, stuck in between          AC\n",
       "2                      not working properly          AC\n",
       "3                        app is not working          AC\n",
       "4   this app will be not started some issue          AC"
      ]
     },
     "execution_count": 7,
     "metadata": {},
     "output_type": "execute_result"
    }
   ],
   "source": [
    "data = data[['User_Review', 'Review_Type']]\n",
    "data.head()"
   ]
  },
  {
   "cell_type": "code",
   "execution_count": 8,
   "metadata": {},
   "outputs": [],
   "source": [
    "def clean_train_data(x):\n",
    "    text = x\n",
    "    text = text.lower()\n",
    "    text = re.sub('\\[.*?\\]', '', text) # remove square brackets\n",
    "    text = re.sub(r'[^\\w\\s]','',text) # remove punctuation\n",
    "    text = re.sub('\\w*\\d\\w*', '', text) # remove words containing numbers\n",
    "    text = re.sub('\\n', '', text)\n",
    "    return text"
   ]
  },
  {
   "cell_type": "code",
   "execution_count": 9,
   "metadata": {},
   "outputs": [
    {
     "data": {
      "text/html": [
       "<div>\n",
       "<style scoped>\n",
       "    .dataframe tbody tr th:only-of-type {\n",
       "        vertical-align: middle;\n",
       "    }\n",
       "\n",
       "    .dataframe tbody tr th {\n",
       "        vertical-align: top;\n",
       "    }\n",
       "\n",
       "    .dataframe thead th {\n",
       "        text-align: right;\n",
       "    }\n",
       "</style>\n",
       "<table border=\"1\" class=\"dataframe\">\n",
       "  <thead>\n",
       "    <tr style=\"text-align: right;\">\n",
       "      <th></th>\n",
       "      <th>User_Review</th>\n",
       "      <th>Review_Type</th>\n",
       "    </tr>\n",
       "  </thead>\n",
       "  <tbody>\n",
       "    <tr>\n",
       "      <th>0</th>\n",
       "      <td>not working properly plz fix the problem</td>\n",
       "      <td>AC</td>\n",
       "    </tr>\n",
       "    <tr>\n",
       "      <th>1</th>\n",
       "      <td>app is not good stuck in between</td>\n",
       "      <td>AC</td>\n",
       "    </tr>\n",
       "    <tr>\n",
       "      <th>2</th>\n",
       "      <td>not working properly</td>\n",
       "      <td>AC</td>\n",
       "    </tr>\n",
       "    <tr>\n",
       "      <th>3</th>\n",
       "      <td>app is not working</td>\n",
       "      <td>AC</td>\n",
       "    </tr>\n",
       "    <tr>\n",
       "      <th>4</th>\n",
       "      <td>this app will be not started some issue</td>\n",
       "      <td>AC</td>\n",
       "    </tr>\n",
       "  </tbody>\n",
       "</table>\n",
       "</div>"
      ],
      "text/plain": [
       "                                User_Review Review_Type\n",
       "0  not working properly plz fix the problem          AC\n",
       "1          app is not good stuck in between          AC\n",
       "2                      not working properly          AC\n",
       "3                        app is not working          AC\n",
       "4   this app will be not started some issue          AC"
      ]
     },
     "execution_count": 9,
     "metadata": {},
     "output_type": "execute_result"
    }
   ],
   "source": [
    "\n",
    "data['User_Review'] = data.User_Review.apply(lambda x : clean_train_data(x))\n",
    "data.head()"
   ]
  },
  {
   "cell_type": "code",
   "execution_count": 10,
   "metadata": {},
   "outputs": [],
   "source": [
    "all_cat_data = data.copy()"
   ]
  },
  {
   "cell_type": "markdown",
   "metadata": {},
   "source": [
    "# 2 Class Analysis"
   ]
  },
  {
   "cell_type": "code",
   "execution_count": 11,
   "metadata": {},
   "outputs": [
    {
     "ename": "KeyError",
     "evalue": "'Sentiments'",
     "output_type": "error",
     "traceback": [
      "\u001b[1;31m---------------------------------------------------------------------------\u001b[0m",
      "\u001b[1;31mKeyError\u001b[0m                                  Traceback (most recent call last)",
      "\u001b[1;32m~\\anaconda\\lib\\site-packages\\pandas\\core\\indexes\\base.py\u001b[0m in \u001b[0;36mget_loc\u001b[1;34m(self, key, method, tolerance)\u001b[0m\n\u001b[0;32m   3079\u001b[0m             \u001b[1;32mtry\u001b[0m\u001b[1;33m:\u001b[0m\u001b[1;33m\u001b[0m\u001b[1;33m\u001b[0m\u001b[0m\n\u001b[1;32m-> 3080\u001b[1;33m                 \u001b[1;32mreturn\u001b[0m \u001b[0mself\u001b[0m\u001b[1;33m.\u001b[0m\u001b[0m_engine\u001b[0m\u001b[1;33m.\u001b[0m\u001b[0mget_loc\u001b[0m\u001b[1;33m(\u001b[0m\u001b[0mcasted_key\u001b[0m\u001b[1;33m)\u001b[0m\u001b[1;33m\u001b[0m\u001b[1;33m\u001b[0m\u001b[0m\n\u001b[0m\u001b[0;32m   3081\u001b[0m             \u001b[1;32mexcept\u001b[0m \u001b[0mKeyError\u001b[0m \u001b[1;32mas\u001b[0m \u001b[0merr\u001b[0m\u001b[1;33m:\u001b[0m\u001b[1;33m\u001b[0m\u001b[1;33m\u001b[0m\u001b[0m\n",
      "\u001b[1;32mpandas\\_libs\\index.pyx\u001b[0m in \u001b[0;36mpandas._libs.index.IndexEngine.get_loc\u001b[1;34m()\u001b[0m\n",
      "\u001b[1;32mpandas\\_libs\\index.pyx\u001b[0m in \u001b[0;36mpandas._libs.index.IndexEngine.get_loc\u001b[1;34m()\u001b[0m\n",
      "\u001b[1;32mpandas\\_libs\\hashtable_class_helper.pxi\u001b[0m in \u001b[0;36mpandas._libs.hashtable.PyObjectHashTable.get_item\u001b[1;34m()\u001b[0m\n",
      "\u001b[1;32mpandas\\_libs\\hashtable_class_helper.pxi\u001b[0m in \u001b[0;36mpandas._libs.hashtable.PyObjectHashTable.get_item\u001b[1;34m()\u001b[0m\n",
      "\u001b[1;31mKeyError\u001b[0m: 'Sentiments'",
      "\nThe above exception was the direct cause of the following exception:\n",
      "\u001b[1;31mKeyError\u001b[0m                                  Traceback (most recent call last)",
      "\u001b[1;32m<ipython-input-11-9c403fd6f85a>\u001b[0m in \u001b[0;36m<module>\u001b[1;34m\u001b[0m\n\u001b[1;32m----> 1\u001b[1;33m \u001b[0mdata\u001b[0m \u001b[1;33m=\u001b[0m \u001b[0mdata\u001b[0m\u001b[1;33m[\u001b[0m\u001b[0mdata\u001b[0m\u001b[1;33m[\u001b[0m\u001b[1;34m'Sentiments'\u001b[0m\u001b[1;33m]\u001b[0m \u001b[1;33m!=\u001b[0m \u001b[1;34m'Neutral'\u001b[0m\u001b[1;33m]\u001b[0m\u001b[1;33m\u001b[0m\u001b[1;33m\u001b[0m\u001b[0m\n\u001b[0m\u001b[0;32m      2\u001b[0m \u001b[0mdata\u001b[0m\u001b[1;33m.\u001b[0m\u001b[0mhead\u001b[0m\u001b[1;33m(\u001b[0m\u001b[1;33m)\u001b[0m\u001b[1;33m\u001b[0m\u001b[1;33m\u001b[0m\u001b[0m\n",
      "\u001b[1;32m~\\anaconda\\lib\\site-packages\\pandas\\core\\frame.py\u001b[0m in \u001b[0;36m__getitem__\u001b[1;34m(self, key)\u001b[0m\n\u001b[0;32m   3022\u001b[0m             \u001b[1;32mif\u001b[0m \u001b[0mself\u001b[0m\u001b[1;33m.\u001b[0m\u001b[0mcolumns\u001b[0m\u001b[1;33m.\u001b[0m\u001b[0mnlevels\u001b[0m \u001b[1;33m>\u001b[0m \u001b[1;36m1\u001b[0m\u001b[1;33m:\u001b[0m\u001b[1;33m\u001b[0m\u001b[1;33m\u001b[0m\u001b[0m\n\u001b[0;32m   3023\u001b[0m                 \u001b[1;32mreturn\u001b[0m \u001b[0mself\u001b[0m\u001b[1;33m.\u001b[0m\u001b[0m_getitem_multilevel\u001b[0m\u001b[1;33m(\u001b[0m\u001b[0mkey\u001b[0m\u001b[1;33m)\u001b[0m\u001b[1;33m\u001b[0m\u001b[1;33m\u001b[0m\u001b[0m\n\u001b[1;32m-> 3024\u001b[1;33m             \u001b[0mindexer\u001b[0m \u001b[1;33m=\u001b[0m \u001b[0mself\u001b[0m\u001b[1;33m.\u001b[0m\u001b[0mcolumns\u001b[0m\u001b[1;33m.\u001b[0m\u001b[0mget_loc\u001b[0m\u001b[1;33m(\u001b[0m\u001b[0mkey\u001b[0m\u001b[1;33m)\u001b[0m\u001b[1;33m\u001b[0m\u001b[1;33m\u001b[0m\u001b[0m\n\u001b[0m\u001b[0;32m   3025\u001b[0m             \u001b[1;32mif\u001b[0m \u001b[0mis_integer\u001b[0m\u001b[1;33m(\u001b[0m\u001b[0mindexer\u001b[0m\u001b[1;33m)\u001b[0m\u001b[1;33m:\u001b[0m\u001b[1;33m\u001b[0m\u001b[1;33m\u001b[0m\u001b[0m\n\u001b[0;32m   3026\u001b[0m                 \u001b[0mindexer\u001b[0m \u001b[1;33m=\u001b[0m \u001b[1;33m[\u001b[0m\u001b[0mindexer\u001b[0m\u001b[1;33m]\u001b[0m\u001b[1;33m\u001b[0m\u001b[1;33m\u001b[0m\u001b[0m\n",
      "\u001b[1;32m~\\anaconda\\lib\\site-packages\\pandas\\core\\indexes\\base.py\u001b[0m in \u001b[0;36mget_loc\u001b[1;34m(self, key, method, tolerance)\u001b[0m\n\u001b[0;32m   3080\u001b[0m                 \u001b[1;32mreturn\u001b[0m \u001b[0mself\u001b[0m\u001b[1;33m.\u001b[0m\u001b[0m_engine\u001b[0m\u001b[1;33m.\u001b[0m\u001b[0mget_loc\u001b[0m\u001b[1;33m(\u001b[0m\u001b[0mcasted_key\u001b[0m\u001b[1;33m)\u001b[0m\u001b[1;33m\u001b[0m\u001b[1;33m\u001b[0m\u001b[0m\n\u001b[0;32m   3081\u001b[0m             \u001b[1;32mexcept\u001b[0m \u001b[0mKeyError\u001b[0m \u001b[1;32mas\u001b[0m \u001b[0merr\u001b[0m\u001b[1;33m:\u001b[0m\u001b[1;33m\u001b[0m\u001b[1;33m\u001b[0m\u001b[0m\n\u001b[1;32m-> 3082\u001b[1;33m                 \u001b[1;32mraise\u001b[0m \u001b[0mKeyError\u001b[0m\u001b[1;33m(\u001b[0m\u001b[0mkey\u001b[0m\u001b[1;33m)\u001b[0m \u001b[1;32mfrom\u001b[0m \u001b[0merr\u001b[0m\u001b[1;33m\u001b[0m\u001b[1;33m\u001b[0m\u001b[0m\n\u001b[0m\u001b[0;32m   3083\u001b[0m \u001b[1;33m\u001b[0m\u001b[0m\n\u001b[0;32m   3084\u001b[0m         \u001b[1;32mif\u001b[0m \u001b[0mtolerance\u001b[0m \u001b[1;32mis\u001b[0m \u001b[1;32mnot\u001b[0m \u001b[1;32mNone\u001b[0m\u001b[1;33m:\u001b[0m\u001b[1;33m\u001b[0m\u001b[1;33m\u001b[0m\u001b[0m\n",
      "\u001b[1;31mKeyError\u001b[0m: 'Sentiments'"
     ]
    }
   ],
   "source": [
    "data = data[data['Sentiments'] != 'Neutral']\n",
    "data.head()"
   ]
  },
  {
   "cell_type": "code",
   "execution_count": 10,
   "metadata": {},
   "outputs": [
    {
     "name": "stdout",
     "output_type": "stream",
     "text": [
      "6177\n",
      "3136\n",
      "0\n"
     ]
    }
   ],
   "source": [
    "print(len(data[data['Sentiments'] == 'Positive']))\n",
    "print(len(data[ data['Sentiments'] == 'Negative']))\n",
    "print(len(data[ data['Sentiments'] == 'Neutral']))"
   ]
  },
  {
   "cell_type": "code",
   "execution_count": 11,
   "metadata": {},
   "outputs": [],
   "source": [
    "model1_data = data.copy()"
   ]
  },
  {
   "cell_type": "code",
   "execution_count": 12,
   "metadata": {},
   "outputs": [],
   "source": [
    "max_features = 2000\n",
    "token = Tokenizer(num_words=max_features, split = ' ')\n",
    "token.fit_on_texts(data['User_Review'].values)\n",
    "\n",
    "X = token.texts_to_sequences(data['User_Review'].values)\n",
    "X = pad_sequences(X)"
   ]
  },
  {
   "cell_type": "code",
   "execution_count": 13,
   "metadata": {},
   "outputs": [
    {
     "data": {
      "text/plain": [
       "(9313, 118)"
      ]
     },
     "execution_count": 13,
     "metadata": {},
     "output_type": "execute_result"
    }
   ],
   "source": [
    "X.shape"
   ]
  },
  {
   "cell_type": "code",
   "execution_count": 14,
   "metadata": {},
   "outputs": [
    {
     "name": "stdout",
     "output_type": "stream",
     "text": [
      "Model: \"sequential\"\n",
      "_________________________________________________________________\n",
      "Layer (type)                 Output Shape              Param #   \n",
      "=================================================================\n",
      "embedding (Embedding)        (None, 118, 128)          256000    \n",
      "_________________________________________________________________\n",
      "spatial_dropout1d (SpatialDr (None, 118, 128)          0         \n",
      "_________________________________________________________________\n",
      "lstm (LSTM)                  (None, 196)               254800    \n",
      "_________________________________________________________________\n",
      "dense (Dense)                (None, 2)                 394       \n",
      "=================================================================\n",
      "Total params: 511,194\n",
      "Trainable params: 511,194\n",
      "Non-trainable params: 0\n",
      "_________________________________________________________________\n"
     ]
    }
   ],
   "source": [
    "embed_dim = 128\n",
    "lstm_out = 196\n",
    "\n",
    "model = Sequential()\n",
    "model.add(Embedding(max_features, embed_dim, input_length = X.shape[1]))\n",
    "model.add(SpatialDropout1D(0.4))\n",
    "model.add(LSTM(lstm_out, dropout=0.2, recurrent_dropout=0.2))\n",
    "model.add(Dense(2, activation='softmax'))\n",
    "model.compile(loss='categorical_crossentropy', optimizer='adam', metrics=['accuracy'])\n",
    "\n",
    "model.summary()"
   ]
  },
  {
   "cell_type": "code",
   "execution_count": 15,
   "metadata": {},
   "outputs": [],
   "source": [
    "Y = pd.get_dummies(data['Sentiments']).values"
   ]
  },
  {
   "cell_type": "code",
   "execution_count": 16,
   "metadata": {},
   "outputs": [],
   "source": [
    "X_train, X_test, y_train, y_test = train_test_split(X,Y, test_size=0.30, random_state=42)"
   ]
  },
  {
   "cell_type": "code",
   "execution_count": 17,
   "metadata": {},
   "outputs": [
    {
     "name": "stdout",
     "output_type": "stream",
     "text": [
      "Epoch 1/10\n",
      "204/204 - 70s - loss: 0.4251 - accuracy: 0.8087\n",
      "Epoch 2/10\n",
      "204/204 - 71s - loss: 0.2695 - accuracy: 0.9061\n",
      "Epoch 3/10\n",
      "204/204 - 71s - loss: 0.2319 - accuracy: 0.9189\n",
      "Epoch 4/10\n",
      "204/204 - 72s - loss: 0.2057 - accuracy: 0.9297\n",
      "Epoch 5/10\n",
      "204/204 - 70s - loss: 0.1904 - accuracy: 0.9348\n",
      "Epoch 6/10\n",
      "204/204 - 70s - loss: 0.1732 - accuracy: 0.9417\n",
      "Epoch 7/10\n",
      "204/204 - 69s - loss: 0.1747 - accuracy: 0.9408\n",
      "Epoch 8/10\n",
      "204/204 - 69s - loss: 0.1563 - accuracy: 0.9474\n",
      "Epoch 9/10\n",
      "204/204 - 69s - loss: 0.1476 - accuracy: 0.9495\n",
      "Epoch 10/10\n",
      "204/204 - 69s - loss: 0.1465 - accuracy: 0.9486\n"
     ]
    }
   ],
   "source": [
    "batch_size = 32\n",
    "history = model.fit(X_train, y_train, epochs=10, batch_size=batch_size, verbose=2)"
   ]
  },
  {
   "cell_type": "code",
   "execution_count": 18,
   "metadata": {},
   "outputs": [
    {
     "name": "stdout",
     "output_type": "stream",
     "text": [
      "88/88 - 3s - loss: 0.3134 - accuracy: 0.9123\n",
      "score 0.31344369053840637\n",
      "accuracy 0.9123120903968811\n"
     ]
    }
   ],
   "source": [
    "# score = model.predict(X_test)\n",
    "score, acc = model.evaluate(X_test, y_test, batch_size=batch_size, verbose=2)\n",
    "print('score', score)\n",
    "print('accuracy', acc)"
   ]
  },
  {
   "cell_type": "code",
   "execution_count": 19,
   "metadata": {},
   "outputs": [
    {
     "name": "stdout",
     "output_type": "stream",
     "text": [
      "WARNING:tensorflow:Model was constructed with shape (None, 118) for input Tensor(\"embedding_input:0\", shape=(None, 118), dtype=float32), but it was called on an input with incompatible shape (1, 28).\n",
      "1/1 - 0s\n"
     ]
    },
    {
     "data": {
      "text/plain": [
       "array([[0.01426646, 0.9857335 ]], dtype=float32)"
      ]
     },
     "execution_count": 19,
     "metadata": {},
     "output_type": "execute_result"
    }
   ],
   "source": [
    "text = ['i would recommend it if you have no other options']\n",
    "text = token.texts_to_sequences(text)\n",
    "text = pad_sequences(text, maxlen=28, dtype='int32', value=0)\n",
    "res = model.predict(text, batch_size=1,verbose = 2)\n",
    "res"
   ]
  },
  {
   "cell_type": "code",
   "execution_count": 20,
   "metadata": {},
   "outputs": [
    {
     "name": "stdout",
     "output_type": "stream",
     "text": [
      "Positive Comment\n"
     ]
    }
   ],
   "source": [
    "if np.argmax(res[0]) == 0:\n",
    "    print(\"Negetive Comment\")\n",
    "elif np.argmax(res[0]) == 1:\n",
    "    print(\"Positive Comment\")"
   ]
  },
  {
   "cell_type": "markdown",
   "metadata": {},
   "source": [
    "# Multiclass Sentiment Analysis"
   ]
  },
  {
   "cell_type": "markdown",
   "metadata": {},
   "source": [
    "### data preprocessing"
   ]
  },
  {
   "cell_type": "code",
   "execution_count": 12,
   "metadata": {},
   "outputs": [],
   "source": [
    "ms_data = all_cat_data.copy()"
   ]
  },
  {
   "cell_type": "code",
   "execution_count": 13,
   "metadata": {},
   "outputs": [
    {
     "data": {
      "text/html": [
       "<div>\n",
       "<style scoped>\n",
       "    .dataframe tbody tr th:only-of-type {\n",
       "        vertical-align: middle;\n",
       "    }\n",
       "\n",
       "    .dataframe tbody tr th {\n",
       "        vertical-align: top;\n",
       "    }\n",
       "\n",
       "    .dataframe thead th {\n",
       "        text-align: right;\n",
       "    }\n",
       "</style>\n",
       "<table border=\"1\" class=\"dataframe\">\n",
       "  <thead>\n",
       "    <tr style=\"text-align: right;\">\n",
       "      <th></th>\n",
       "      <th>User_Review</th>\n",
       "      <th>Review_Type</th>\n",
       "    </tr>\n",
       "  </thead>\n",
       "  <tbody>\n",
       "    <tr>\n",
       "      <th>0</th>\n",
       "      <td>not working properly plz fix the problem</td>\n",
       "      <td>AC</td>\n",
       "    </tr>\n",
       "    <tr>\n",
       "      <th>1</th>\n",
       "      <td>app is not good stuck in between</td>\n",
       "      <td>AC</td>\n",
       "    </tr>\n",
       "    <tr>\n",
       "      <th>2</th>\n",
       "      <td>not working properly</td>\n",
       "      <td>AC</td>\n",
       "    </tr>\n",
       "    <tr>\n",
       "      <th>3</th>\n",
       "      <td>app is not working</td>\n",
       "      <td>AC</td>\n",
       "    </tr>\n",
       "    <tr>\n",
       "      <th>4</th>\n",
       "      <td>this app will be not started some issue</td>\n",
       "      <td>AC</td>\n",
       "    </tr>\n",
       "  </tbody>\n",
       "</table>\n",
       "</div>"
      ],
      "text/plain": [
       "                                User_Review Review_Type\n",
       "0  not working properly plz fix the problem          AC\n",
       "1          app is not good stuck in between          AC\n",
       "2                      not working properly          AC\n",
       "3                        app is not working          AC\n",
       "4   this app will be not started some issue          AC"
      ]
     },
     "execution_count": 13,
     "metadata": {},
     "output_type": "execute_result"
    }
   ],
   "source": [
    "ms_data.head()"
   ]
  },
  {
   "cell_type": "code",
   "execution_count": 14,
   "metadata": {},
   "outputs": [
    {
     "data": {
      "text/html": [
       "<div>\n",
       "<style scoped>\n",
       "    .dataframe tbody tr th:only-of-type {\n",
       "        vertical-align: middle;\n",
       "    }\n",
       "\n",
       "    .dataframe tbody tr th {\n",
       "        vertical-align: top;\n",
       "    }\n",
       "\n",
       "    .dataframe thead th {\n",
       "        text-align: right;\n",
       "    }\n",
       "</style>\n",
       "<table border=\"1\" class=\"dataframe\">\n",
       "  <thead>\n",
       "    <tr style=\"text-align: right;\">\n",
       "      <th></th>\n",
       "      <th>User_Review</th>\n",
       "      <th>Review_Type</th>\n",
       "      <th>label</th>\n",
       "    </tr>\n",
       "  </thead>\n",
       "  <tbody>\n",
       "    <tr>\n",
       "      <th>6986</th>\n",
       "      <td>i cant fing create a google docs and when i do...</td>\n",
       "      <td>BR</td>\n",
       "      <td>0</td>\n",
       "    </tr>\n",
       "    <tr>\n",
       "      <th>2302</th>\n",
       "      <td>u can search only limited words  there is limi...</td>\n",
       "      <td>PI</td>\n",
       "      <td>0</td>\n",
       "    </tr>\n",
       "    <tr>\n",
       "      <th>3901</th>\n",
       "      <td>i dont know why they changed the tab layout it...</td>\n",
       "      <td>UI</td>\n",
       "      <td>0</td>\n",
       "    </tr>\n",
       "    <tr>\n",
       "      <th>381</th>\n",
       "      <td>this app when i open it was blank</td>\n",
       "      <td>AC</td>\n",
       "      <td>0</td>\n",
       "    </tr>\n",
       "    <tr>\n",
       "      <th>2873</th>\n",
       "      <td>rate this app</td>\n",
       "      <td>PI</td>\n",
       "      <td>0</td>\n",
       "    </tr>\n",
       "  </tbody>\n",
       "</table>\n",
       "</div>"
      ],
      "text/plain": [
       "                                            User_Review Review_Type  label\n",
       "6986  i cant fing create a google docs and when i do...          BR      0\n",
       "2302  u can search only limited words  there is limi...          PI      0\n",
       "3901  i dont know why they changed the tab layout it...          UI      0\n",
       "381                   this app when i open it was blank          AC      0\n",
       "2873                                      rate this app          PI      0"
      ]
     },
     "execution_count": 14,
     "metadata": {},
     "output_type": "execute_result"
    }
   ],
   "source": [
    "num_of_rows = 4000\n",
    "shuffled = ms_data.reindex(np.random.permutation(ms_data.index))\n",
    "nt = shuffled[shuffled['Review_Type'] == 'AC'][:num_of_rows]\n",
    "ng = shuffled[shuffled['Review_Type'] == 'AI'][:num_of_rows]\n",
    "ps = shuffled[shuffled['Review_Type'] == 'PI'][:num_of_rows]\n",
    "of = shuffled[shuffled['Review_Type'] == 'UI'][:num_of_rows]\n",
    "og = shuffled[shuffled['Review_Type'] == 'VU'][:num_of_rows]\n",
    "ob = shuffled[shuffled['Review_Type'] == 'BR'][:num_of_rows]\n",
    "qw = shuffled[shuffled['Review_Type'] == 'FI'][:num_of_rows]\n",
    "cv = shuffled[shuffled['Review_Type'] == 'FR'][:num_of_rows]\n",
    "\n",
    "\n",
    "\n",
    "combine_data = pd.concat([nt, ng, ps,of,og,ob,qw,cv], ignore_index=True)\n",
    "combine_data = combine_data.reindex(np.random.permutation(combine_data.index))\n",
    "combine_data['label'] = 0\n",
    "combine_data.head()"
   ]
  },
  {
   "cell_type": "code",
   "execution_count": 15,
   "metadata": {},
   "outputs": [
    {
     "name": "stdout",
     "output_type": "stream",
     "text": [
      "PI    2403\n",
      "BR    2201\n",
      "AC    1129\n",
      "FI     937\n",
      "CI     873\n",
      "VU     777\n",
      "AI     363\n",
      "FR     223\n",
      "UI     206\n",
      "Name: Review_Type, dtype: int64\n"
     ]
    }
   ],
   "source": [
    "classes = data['Review_Type']\n",
    "print(classes.value_counts())"
   ]
  },
  {
   "cell_type": "code",
   "execution_count": 16,
   "metadata": {},
   "outputs": [
    {
     "name": "stdout",
     "output_type": "stream",
     "text": [
      "1129\n",
      "363\n",
      "2403\n",
      "206\n",
      "777\n",
      "2201\n",
      "937\n",
      "223\n"
     ]
    }
   ],
   "source": [
    "print(len(combine_data[combine_data['Review_Type'] == 'AC']))\n",
    "print(len(combine_data[combine_data['Review_Type'] == 'AI']))\n",
    "print(len(combine_data[combine_data['Review_Type'] == 'PI']))\n",
    "print(len(combine_data[combine_data['Review_Type'] == 'UI']))\n",
    "print(len(combine_data[combine_data['Review_Type'] == 'VU']))\n",
    "print(len(combine_data[combine_data['Review_Type'] == 'BR']))\n",
    "print(len(combine_data[combine_data['Review_Type'] == 'FI']))\n",
    "print(len(combine_data[combine_data['Review_Type'] == 'FR']))"
   ]
  },
  {
   "cell_type": "code",
   "execution_count": 17,
   "metadata": {},
   "outputs": [],
   "source": [
    "ms_data = combine_data.copy()"
   ]
  },
  {
   "cell_type": "code",
   "execution_count": 18,
   "metadata": {},
   "outputs": [
    {
     "name": "stdout",
     "output_type": "stream",
     "text": [
      "1129\n",
      "363\n",
      "2403\n",
      "206\n",
      "777\n",
      "2201\n",
      "937\n",
      "223\n"
     ]
    }
   ],
   "source": [
    "print(len(ms_data[ms_data['Review_Type'] == 'AC']))\n",
    "print(len(ms_data[ms_data['Review_Type'] == 'AI']))\n",
    "print(len(ms_data[ms_data['Review_Type'] == 'PI']))\n",
    "print(len(ms_data[ms_data['Review_Type'] == 'UI']))\n",
    "print(len(ms_data[ms_data['Review_Type'] == 'VU']))\n",
    "print(len(ms_data[ms_data['Review_Type'] == 'BR']))\n",
    "print(len(ms_data[ms_data['Review_Type'] == 'FI']))\n",
    "print(len(ms_data[ms_data['Review_Type'] == 'FR']))"
   ]
  },
  {
   "cell_type": "code",
   "execution_count": 19,
   "metadata": {},
   "outputs": [],
   "source": [
    "ms_data.loc[ms_data['Review_Type'] == 'AC', 'label'] = 0\n",
    "ms_data.loc[ms_data['Review_Type'] == 'AI', 'label'] = 1\n",
    "ms_data.loc[ms_data['Review_Type'] == 'PI', 'label'] = 2\n",
    "ms_data.loc[ms_data['Review_Type'] == 'UI', 'label'] = 3\n",
    "ms_data.loc[ms_data['Review_Type'] == 'VU', 'label'] = 4\n",
    "ms_data.loc[ms_data['Review_Type'] == 'BR', 'label'] = 5\n",
    "ms_data.loc[ms_data['Review_Type'] == 'FI', 'label'] = 6\n",
    "ms_data.loc[ms_data['Review_Type'] == 'FR', 'label'] = 7"
   ]
  },
  {
   "cell_type": "code",
   "execution_count": 20,
   "metadata": {},
   "outputs": [
    {
     "data": {
      "text/html": [
       "<div>\n",
       "<style scoped>\n",
       "    .dataframe tbody tr th:only-of-type {\n",
       "        vertical-align: middle;\n",
       "    }\n",
       "\n",
       "    .dataframe tbody tr th {\n",
       "        vertical-align: top;\n",
       "    }\n",
       "\n",
       "    .dataframe thead th {\n",
       "        text-align: right;\n",
       "    }\n",
       "</style>\n",
       "<table border=\"1\" class=\"dataframe\">\n",
       "  <thead>\n",
       "    <tr style=\"text-align: right;\">\n",
       "      <th></th>\n",
       "      <th>User_Review</th>\n",
       "      <th>Review_Type</th>\n",
       "      <th>label</th>\n",
       "    </tr>\n",
       "  </thead>\n",
       "  <tbody>\n",
       "    <tr>\n",
       "      <th>6986</th>\n",
       "      <td>i cant fing create a google docs and when i do...</td>\n",
       "      <td>BR</td>\n",
       "      <td>5</td>\n",
       "    </tr>\n",
       "    <tr>\n",
       "      <th>2302</th>\n",
       "      <td>u can search only limited words  there is limi...</td>\n",
       "      <td>PI</td>\n",
       "      <td>2</td>\n",
       "    </tr>\n",
       "    <tr>\n",
       "      <th>3901</th>\n",
       "      <td>i dont know why they changed the tab layout it...</td>\n",
       "      <td>UI</td>\n",
       "      <td>3</td>\n",
       "    </tr>\n",
       "    <tr>\n",
       "      <th>381</th>\n",
       "      <td>this app when i open it was blank</td>\n",
       "      <td>AC</td>\n",
       "      <td>0</td>\n",
       "    </tr>\n",
       "    <tr>\n",
       "      <th>2873</th>\n",
       "      <td>rate this app</td>\n",
       "      <td>PI</td>\n",
       "      <td>2</td>\n",
       "    </tr>\n",
       "    <tr>\n",
       "      <th>334</th>\n",
       "      <td>i like it but it stuck in between</td>\n",
       "      <td>AC</td>\n",
       "      <td>0</td>\n",
       "    </tr>\n",
       "    <tr>\n",
       "      <th>3781</th>\n",
       "      <td>i never recommended this app</td>\n",
       "      <td>PI</td>\n",
       "      <td>2</td>\n",
       "    </tr>\n",
       "    <tr>\n",
       "      <th>1624</th>\n",
       "      <td>this a bad app bacuse my mobie is talk on this...</td>\n",
       "      <td>PI</td>\n",
       "      <td>2</td>\n",
       "    </tr>\n",
       "    <tr>\n",
       "      <th>2442</th>\n",
       "      <td>elsa could not hear my voice</td>\n",
       "      <td>PI</td>\n",
       "      <td>2</td>\n",
       "    </tr>\n",
       "    <tr>\n",
       "      <th>7461</th>\n",
       "      <td>tapping buttons doesnt work consistently</td>\n",
       "      <td>FI</td>\n",
       "      <td>6</td>\n",
       "    </tr>\n",
       "  </tbody>\n",
       "</table>\n",
       "</div>"
      ],
      "text/plain": [
       "                                            User_Review Review_Type  label\n",
       "6986  i cant fing create a google docs and when i do...          BR      5\n",
       "2302  u can search only limited words  there is limi...          PI      2\n",
       "3901  i dont know why they changed the tab layout it...          UI      3\n",
       "381                   this app when i open it was blank          AC      0\n",
       "2873                                      rate this app          PI      2\n",
       "334                   i like it but it stuck in between          AC      0\n",
       "3781                       i never recommended this app          PI      2\n",
       "1624  this a bad app bacuse my mobie is talk on this...          PI      2\n",
       "2442                       elsa could not hear my voice          PI      2\n",
       "7461           tapping buttons doesnt work consistently          FI      6"
      ]
     },
     "execution_count": 20,
     "metadata": {},
     "output_type": "execute_result"
    }
   ],
   "source": [
    "ms_data.head(10)"
   ]
  },
  {
   "cell_type": "code",
   "execution_count": 21,
   "metadata": {},
   "outputs": [],
   "source": [
    "from keras.utils import to_categorical"
   ]
  },
  {
   "cell_type": "code",
   "execution_count": 22,
   "metadata": {},
   "outputs": [],
   "source": [
    "labels = to_categorical(ms_data['label'], num_classes=8)"
   ]
  },
  {
   "cell_type": "code",
   "execution_count": 23,
   "metadata": {},
   "outputs": [
    {
     "data": {
      "text/plain": [
       "(8239, 8)"
      ]
     },
     "execution_count": 23,
     "metadata": {},
     "output_type": "execute_result"
    }
   ],
   "source": [
    "labels.shape"
   ]
  },
  {
   "cell_type": "code",
   "execution_count": 24,
   "metadata": {},
   "outputs": [
    {
     "data": {
      "text/plain": [
       "array([[0., 0., 0., 0., 0., 1., 0., 0.],\n",
       "       [0., 0., 1., 0., 0., 0., 0., 0.],\n",
       "       [0., 0., 0., 1., 0., 0., 0., 0.],\n",
       "       [1., 0., 0., 0., 0., 0., 0., 0.],\n",
       "       [0., 0., 1., 0., 0., 0., 0., 0.],\n",
       "       [1., 0., 0., 0., 0., 0., 0., 0.],\n",
       "       [0., 0., 1., 0., 0., 0., 0., 0.],\n",
       "       [0., 0., 1., 0., 0., 0., 0., 0.],\n",
       "       [0., 0., 1., 0., 0., 0., 0., 0.],\n",
       "       [0., 0., 0., 0., 0., 0., 1., 0.]], dtype=float32)"
      ]
     },
     "execution_count": 24,
     "metadata": {},
     "output_type": "execute_result"
    }
   ],
   "source": [
    "labels[:10]"
   ]
  },
  {
   "cell_type": "code",
   "execution_count": 27,
   "metadata": {},
   "outputs": [],
   "source": [
    "max_features = 3000\n",
    "max_len = 130\n",
    "ms_token = Tokenizer(num_words=max_features)\n",
    "ms_token.fit_on_texts(ms_data['User_Review'].values)\n",
    "ms_sequences = ms_token.texts_to_sequences(ms_data['User_Review'].values)\n",
    "X = pad_sequences(ms_sequences, maxlen=max_len)"
   ]
  },
  {
   "cell_type": "code",
   "execution_count": 28,
   "metadata": {},
   "outputs": [
    {
     "name": "stdout",
     "output_type": "stream",
     "text": [
      "Found 7992 unique tokens.\n"
     ]
    }
   ],
   "source": [
    "word_index = ms_token.word_index\n",
    "print('Found %s unique tokens.' % len(word_index))"
   ]
  },
  {
   "cell_type": "code",
   "execution_count": 29,
   "metadata": {},
   "outputs": [],
   "source": [
    "y = labels"
   ]
  },
  {
   "cell_type": "code",
   "execution_count": 30,
   "metadata": {},
   "outputs": [],
   "source": [
    "X_train, X_test, y_train, y_test = train_test_split(X,y, test_size=0.25, random_state=42)"
   ]
  },
  {
   "cell_type": "code",
   "execution_count": 31,
   "metadata": {},
   "outputs": [],
   "source": [
    "embed_dim = 128\n",
    "lstm_out = 96"
   ]
  },
  {
   "cell_type": "code",
   "execution_count": 55,
   "metadata": {},
   "outputs": [
    {
     "name": "stdout",
     "output_type": "stream",
     "text": [
      "Model: \"sequential_4\"\n",
      "_________________________________________________________________\n",
      "Layer (type)                 Output Shape              Param #   \n",
      "=================================================================\n",
      "embedding_4 (Embedding)      (None, 130, 128)          384000    \n",
      "_________________________________________________________________\n",
      "spatial_dropout1d_4 (Spatial (None, 130, 128)          0         \n",
      "_________________________________________________________________\n",
      "lstm_4 (LSTM)                (None, 64)                49408     \n",
      "_________________________________________________________________\n",
      "dense_4 (Dense)              (None, 8)                 520       \n",
      "=================================================================\n",
      "Total params: 433,928\n",
      "Trainable params: 433,928\n",
      "Non-trainable params: 0\n",
      "_________________________________________________________________\n"
     ]
    }
   ],
   "source": [
    "ms_model = Sequential()\n",
    "ms_model.add(Embedding(max_features, embed_dim, input_length = X.shape[1]))\n",
    "ms_model.add(SpatialDropout1D(0.7))\n",
    "ms_model.add(LSTM(64, dropout=0.7, recurrent_dropout=0.7))\n",
    "ms_model.add(Dense(8, activation='softmax'))\n",
    "ms_model.compile(loss='categorical_crossentropy', optimizer='adam', metrics=['acc'])\n",
    "\n",
    "ms_model.summary()"
   ]
  },
  {
   "cell_type": "code",
   "execution_count": 53,
   "metadata": {},
   "outputs": [],
   "source": [
    "from keras.callbacks import EarlyStopping"
   ]
  },
  {
   "cell_type": "code",
   "execution_count": 56,
   "metadata": {},
   "outputs": [
    {
     "name": "stdout",
     "output_type": "stream",
     "text": [
      "Epoch 1/20\n",
      "58/58 [==============================] - 13s 231ms/step - loss: 1.8359 - acc: 0.2849 - val_loss: 1.7449 - val_acc: 0.3294\n",
      "Epoch 2/20\n",
      "58/58 [==============================] - 11s 198ms/step - loss: 1.7290 - acc: 0.3274 - val_loss: 1.6882 - val_acc: 0.3366\n",
      "Epoch 3/20\n",
      "58/58 [==============================] - 11s 197ms/step - loss: 1.6703 - acc: 0.3576 - val_loss: 1.6362 - val_acc: 0.3612\n",
      "Epoch 4/20\n",
      "58/58 [==============================] - 12s 204ms/step - loss: 1.5887 - acc: 0.4033 - val_loss: 1.5332 - val_acc: 0.4032\n",
      "Epoch 5/20\n",
      "58/58 [==============================] - 12s 213ms/step - loss: 1.4909 - acc: 0.4478 - val_loss: 1.4441 - val_acc: 0.4699\n",
      "Epoch 6/20\n",
      "58/58 [==============================] - 13s 219ms/step - loss: 1.3851 - acc: 0.5041 - val_loss: 1.3901 - val_acc: 0.5217\n",
      "Epoch 7/20\n",
      "58/58 [==============================] - 12s 204ms/step - loss: 1.3063 - acc: 0.5466 - val_loss: 1.3604 - val_acc: 0.5372\n",
      "Epoch 8/20\n",
      "58/58 [==============================] - 12s 205ms/step - loss: 1.2218 - acc: 0.5723 - val_loss: 1.2865 - val_acc: 0.5644\n",
      "Epoch 9/20\n",
      "58/58 [==============================] - 12s 201ms/step - loss: 1.1498 - acc: 0.5991 - val_loss: 1.2679 - val_acc: 0.5851\n",
      "Epoch 10/20\n",
      "58/58 [==============================] - 12s 200ms/step - loss: 1.0879 - acc: 0.6217 - val_loss: 1.2073 - val_acc: 0.6000\n",
      "Epoch 11/20\n",
      "58/58 [==============================] - 12s 199ms/step - loss: 1.0402 - acc: 0.6450 - val_loss: 1.1361 - val_acc: 0.6304\n",
      "Epoch 12/20\n",
      "58/58 [==============================] - 12s 199ms/step - loss: 0.9924 - acc: 0.6543 - val_loss: 1.1847 - val_acc: 0.6239\n"
     ]
    }
   ],
   "source": [
    "batch_size = 80\n",
    "ms_history = ms_model.fit(X_train, y_train, epochs=20, batch_size=batch_size,validation_split=0.25,callbacks=[EarlyStopping(monitor='val_loss')])"
   ]
  },
  {
   "cell_type": "code",
   "execution_count": 46,
   "metadata": {},
   "outputs": [],
   "source": [
    "from sklearn.metrics import precision_score\n"
   ]
  },
  {
   "cell_type": "code",
   "execution_count": 47,
   "metadata": {},
   "outputs": [
    {
     "name": "stdout",
     "output_type": "stream",
     "text": [
      "65/65 [==============================] - 1s 17ms/step - loss: 1.1777 - acc: 0.6146\n",
      "loss 1.1776673793792725\n",
      "accuracy 0.6145631074905396\n"
     ]
    }
   ],
   "source": [
    "loss, accuracy = ms_model.evaluate(X_test, y_test)\n",
    "print(\"loss\", loss)\n",
    "print(\"accuracy\", accuracy)\n"
   ]
  },
  {
   "cell_type": "code",
   "execution_count": 48,
   "metadata": {},
   "outputs": [
    {
     "name": "stdout",
     "output_type": "stream",
     "text": [
      "accuracy 0.6145631074905396\n"
     ]
    }
   ],
   "source": [
    "from sklearn import metrics\n",
    "print(\"accuracy\", accuracy)\n"
   ]
  },
  {
   "cell_type": "code",
   "execution_count": 58,
   "metadata": {},
   "outputs": [
    {
     "data": {
      "text/plain": [
       "array([[6.30153120e-02, 2.81930761e-03, 4.93694603e-01, ...,\n",
       "        3.37423265e-01, 9.34701711e-02, 5.75461611e-03],\n",
       "       [3.16282250e-02, 1.91523705e-03, 5.27920544e-01, ...,\n",
       "        3.51671398e-01, 8.26125145e-02, 2.86135264e-03],\n",
       "       [4.40796465e-03, 9.05929599e-04, 3.69890779e-02, ...,\n",
       "        4.09954697e-01, 1.27686262e-01, 3.08621326e-03],\n",
       "       ...,\n",
       "       [1.27625793e-01, 1.85959022e-02, 1.15012921e-01, ...,\n",
       "        5.79502404e-01, 1.23596214e-01, 2.06099171e-02],\n",
       "       [3.60909551e-02, 5.73219091e-04, 1.32946044e-01, ...,\n",
       "        7.51636803e-01, 7.37666488e-02, 2.48475769e-03],\n",
       "       [1.75582096e-01, 1.94611084e-02, 3.43983620e-01, ...,\n",
       "        2.00539082e-01, 1.95110813e-01, 3.60732637e-02]], dtype=float32)"
      ]
     },
     "execution_count": 58,
     "metadata": {},
     "output_type": "execute_result"
    }
   ],
   "source": [
    "predictions = ms_model.predict(X_test)\n",
    "predictions"
   ]
  },
  {
   "cell_type": "code",
   "execution_count": 59,
   "metadata": {},
   "outputs": [
    {
     "data": {
      "text/html": [
       "<div>\n",
       "<style scoped>\n",
       "    .dataframe tbody tr th:only-of-type {\n",
       "        vertical-align: middle;\n",
       "    }\n",
       "\n",
       "    .dataframe tbody tr th {\n",
       "        vertical-align: top;\n",
       "    }\n",
       "\n",
       "    .dataframe thead th {\n",
       "        text-align: right;\n",
       "    }\n",
       "</style>\n",
       "<table border=\"1\" class=\"dataframe\">\n",
       "  <thead>\n",
       "    <tr style=\"text-align: right;\">\n",
       "      <th>Predicted</th>\n",
       "      <th>0</th>\n",
       "      <th>1</th>\n",
       "      <th>2</th>\n",
       "      <th>3</th>\n",
       "      <th>4</th>\n",
       "      <th>5</th>\n",
       "      <th>6</th>\n",
       "      <th>All</th>\n",
       "    </tr>\n",
       "    <tr>\n",
       "      <th>True</th>\n",
       "      <th></th>\n",
       "      <th></th>\n",
       "      <th></th>\n",
       "      <th></th>\n",
       "      <th></th>\n",
       "      <th></th>\n",
       "      <th></th>\n",
       "      <th></th>\n",
       "    </tr>\n",
       "  </thead>\n",
       "  <tbody>\n",
       "    <tr>\n",
       "      <th>0</th>\n",
       "      <td>169</td>\n",
       "      <td>0</td>\n",
       "      <td>23</td>\n",
       "      <td>0</td>\n",
       "      <td>5</td>\n",
       "      <td>63</td>\n",
       "      <td>1</td>\n",
       "      <td>261</td>\n",
       "    </tr>\n",
       "    <tr>\n",
       "      <th>1</th>\n",
       "      <td>0</td>\n",
       "      <td>55</td>\n",
       "      <td>23</td>\n",
       "      <td>0</td>\n",
       "      <td>9</td>\n",
       "      <td>7</td>\n",
       "      <td>0</td>\n",
       "      <td>94</td>\n",
       "    </tr>\n",
       "    <tr>\n",
       "      <th>2</th>\n",
       "      <td>23</td>\n",
       "      <td>12</td>\n",
       "      <td>470</td>\n",
       "      <td>0</td>\n",
       "      <td>6</td>\n",
       "      <td>86</td>\n",
       "      <td>2</td>\n",
       "      <td>599</td>\n",
       "    </tr>\n",
       "    <tr>\n",
       "      <th>3</th>\n",
       "      <td>6</td>\n",
       "      <td>11</td>\n",
       "      <td>6</td>\n",
       "      <td>10</td>\n",
       "      <td>9</td>\n",
       "      <td>15</td>\n",
       "      <td>1</td>\n",
       "      <td>58</td>\n",
       "    </tr>\n",
       "    <tr>\n",
       "      <th>4</th>\n",
       "      <td>4</td>\n",
       "      <td>1</td>\n",
       "      <td>6</td>\n",
       "      <td>0</td>\n",
       "      <td>121</td>\n",
       "      <td>61</td>\n",
       "      <td>2</td>\n",
       "      <td>195</td>\n",
       "    </tr>\n",
       "    <tr>\n",
       "      <th>5</th>\n",
       "      <td>63</td>\n",
       "      <td>3</td>\n",
       "      <td>66</td>\n",
       "      <td>0</td>\n",
       "      <td>4</td>\n",
       "      <td>419</td>\n",
       "      <td>3</td>\n",
       "      <td>558</td>\n",
       "    </tr>\n",
       "    <tr>\n",
       "      <th>6</th>\n",
       "      <td>19</td>\n",
       "      <td>0</td>\n",
       "      <td>59</td>\n",
       "      <td>0</td>\n",
       "      <td>6</td>\n",
       "      <td>108</td>\n",
       "      <td>47</td>\n",
       "      <td>239</td>\n",
       "    </tr>\n",
       "    <tr>\n",
       "      <th>7</th>\n",
       "      <td>8</td>\n",
       "      <td>2</td>\n",
       "      <td>12</td>\n",
       "      <td>0</td>\n",
       "      <td>3</td>\n",
       "      <td>15</td>\n",
       "      <td>16</td>\n",
       "      <td>56</td>\n",
       "    </tr>\n",
       "    <tr>\n",
       "      <th>All</th>\n",
       "      <td>292</td>\n",
       "      <td>84</td>\n",
       "      <td>665</td>\n",
       "      <td>10</td>\n",
       "      <td>163</td>\n",
       "      <td>774</td>\n",
       "      <td>72</td>\n",
       "      <td>2060</td>\n",
       "    </tr>\n",
       "  </tbody>\n",
       "</table>\n",
       "</div>"
      ],
      "text/plain": [
       "Predicted    0   1    2   3    4    5   6   All\n",
       "True                                           \n",
       "0          169   0   23   0    5   63   1   261\n",
       "1            0  55   23   0    9    7   0    94\n",
       "2           23  12  470   0    6   86   2   599\n",
       "3            6  11    6  10    9   15   1    58\n",
       "4            4   1    6   0  121   61   2   195\n",
       "5           63   3   66   0    4  419   3   558\n",
       "6           19   0   59   0    6  108  47   239\n",
       "7            8   2   12   0    3   15  16    56\n",
       "All        292  84  665  10  163  774  72  2060"
      ]
     },
     "execution_count": 59,
     "metadata": {},
     "output_type": "execute_result"
    }
   ],
   "source": [
    "pd.crosstab(y_test.argmax(axis=1), predictions.argmax(axis=1), rownames=['True'], colnames=['Predicted'], margins=True)\n"
   ]
  },
  {
   "cell_type": "code",
   "execution_count": 60,
   "metadata": {},
   "outputs": [
    {
     "data": {
      "text/plain": [
       "array([[169,   0,  23,   0,   5,  63,   1,   0],\n",
       "       [  0,  55,  23,   0,   9,   7,   0,   0],\n",
       "       [ 23,  12, 470,   0,   6,  86,   2,   0],\n",
       "       [  6,  11,   6,  10,   9,  15,   1,   0],\n",
       "       [  4,   1,   6,   0, 121,  61,   2,   0],\n",
       "       [ 63,   3,  66,   0,   4, 419,   3,   0],\n",
       "       [ 19,   0,  59,   0,   6, 108,  47,   0],\n",
       "       [  8,   2,  12,   0,   3,  15,  16,   0]], dtype=int64)"
      ]
     },
     "execution_count": 60,
     "metadata": {},
     "output_type": "execute_result"
    }
   ],
   "source": [
    "metrics.confusion_matrix(y_test.argmax(axis=1), predictions.argmax(axis=1))\n"
   ]
  },
  {
   "cell_type": "code",
   "execution_count": 62,
   "metadata": {},
   "outputs": [],
   "source": [
    "from sklearn import metrics\n",
    "con = metrics.confusion_matrix(y_test.argmax(axis=1), predictions.argmax(axis=1))"
   ]
  },
  {
   "cell_type": "code",
   "execution_count": 63,
   "metadata": {},
   "outputs": [
    {
     "name": "stderr",
     "output_type": "stream",
     "text": [
      "<ipython-input-63-65819a613e95>:1: RuntimeWarning: invalid value encountered in true_divide\n",
      "  precision = np.diag(con) / (np.diag(con) +(con.sum(axis=0) - np.diag(con)))\n"
     ]
    },
    {
     "data": {
      "text/plain": [
       "array([0.57876712, 0.6547619 , 0.70676692, 1.        , 0.74233129,\n",
       "       0.54134367, 0.65277778,        nan])"
      ]
     },
     "execution_count": 63,
     "metadata": {},
     "output_type": "execute_result"
    }
   ],
   "source": [
    "precision = np.diag(con) / (np.diag(con) +(con.sum(axis=0) - np.diag(con)))\n",
    "precision\n"
   ]
  },
  {
   "cell_type": "code",
   "execution_count": 64,
   "metadata": {},
   "outputs": [
    {
     "data": {
      "text/plain": [
       "array([0.64750958, 0.58510638, 0.78464107, 0.17241379, 0.62051282,\n",
       "       0.75089606, 0.19665272, 0.        ])"
      ]
     },
     "execution_count": 64,
     "metadata": {},
     "output_type": "execute_result"
    }
   ],
   "source": [
    "recall = np.diag(con)/ ((con.sum(axis=1) - np.diag(con)) + np.diag(con))\n",
    "recall"
   ]
  },
  {
   "cell_type": "code",
   "execution_count": 65,
   "metadata": {},
   "outputs": [
    {
     "data": {
      "text/plain": [
       "array([0.61121157, 0.61797753, 0.74367089, 0.29411765, 0.67597765,\n",
       "       0.62912913, 0.3022508 ,        nan])"
      ]
     },
     "execution_count": 65,
     "metadata": {},
     "output_type": "execute_result"
    }
   ],
   "source": [
    "f1_score = 2 * ((precision * recall) / (precision + recall))\n",
    "f1_score"
   ]
  },
  {
   "cell_type": "code",
   "execution_count": 66,
   "metadata": {},
   "outputs": [
    {
     "name": "stdout",
     "output_type": "stream",
     "text": [
      "[0.57876712 0.6547619  0.70676692 1.         0.74233129 0.54134367\n",
      " 0.65277778        nan]\n"
     ]
    }
   ],
   "source": [
    "print(precision)"
   ]
  }
 ],
 "metadata": {
  "kernelspec": {
   "display_name": "Python 3",
   "language": "python",
   "name": "python3"
  },
  "language_info": {
   "codemirror_mode": {
    "name": "ipython",
    "version": 3
   },
   "file_extension": ".py",
   "mimetype": "text/x-python",
   "name": "python",
   "nbconvert_exporter": "python",
   "pygments_lexer": "ipython3",
   "version": "3.8.8"
  }
 },
 "nbformat": 4,
 "nbformat_minor": 4
}
