{
 "cells": [
  {
   "cell_type": "code",
   "execution_count": 1,
   "metadata": {},
   "outputs": [],
   "source": [
    "import numpy as np\n",
    "import pandas as pd\n",
    "import matplotlib.pyplot as plt\n",
    "import re\n",
    "\n",
    "from keras.preprocessing.text import Tokenizer\n",
    "from keras.preprocessing.sequence import pad_sequences\n",
    "from keras.models import Sequential\n",
    "from keras.layers import Dense, Embedding, LSTM, SimpleRNN, SpatialDropout1D\n",
    "\n",
    "from sklearn.model_selection import train_test_split\n",
    "from sklearn import metrics"
   ]
  },
  {
   "cell_type": "code",
   "execution_count": 2,
   "metadata": {},
   "outputs": [
    {
     "data": {
      "text/html": [
       "<div>\n",
       "<style scoped>\n",
       "    .dataframe tbody tr th:only-of-type {\n",
       "        vertical-align: middle;\n",
       "    }\n",
       "\n",
       "    .dataframe tbody tr th {\n",
       "        vertical-align: top;\n",
       "    }\n",
       "\n",
       "    .dataframe thead th {\n",
       "        text-align: right;\n",
       "    }\n",
       "</style>\n",
       "<table border=\"1\" class=\"dataframe\">\n",
       "  <thead>\n",
       "    <tr style=\"text-align: right;\">\n",
       "      <th></th>\n",
       "      <th>App_name</th>\n",
       "      <th>Category</th>\n",
       "      <th>User_Review</th>\n",
       "      <th>Sentiments</th>\n",
       "    </tr>\n",
       "  </thead>\n",
       "  <tbody>\n",
       "    <tr>\n",
       "      <th>0</th>\n",
       "      <td>brainly</td>\n",
       "      <td>Education</td>\n",
       "      <td>�Horrible. This app has changed so much. I've ...</td>\n",
       "      <td>Negative</td>\n",
       "    </tr>\n",
       "    <tr>\n",
       "      <th>1</th>\n",
       "      <td>brainly</td>\n",
       "      <td>Education</td>\n",
       "      <td>The app is not responding</td>\n",
       "      <td>Negative</td>\n",
       "    </tr>\n",
       "    <tr>\n",
       "      <th>2</th>\n",
       "      <td>brainly</td>\n",
       "      <td>Education</td>\n",
       "      <td>Not working properly plz fix the problem</td>\n",
       "      <td>Negative</td>\n",
       "    </tr>\n",
       "    <tr>\n",
       "      <th>3</th>\n",
       "      <td>brainly</td>\n",
       "      <td>Education</td>\n",
       "      <td>App is not good</td>\n",
       "      <td>Negative</td>\n",
       "    </tr>\n",
       "    <tr>\n",
       "      <th>4</th>\n",
       "      <td>brainly</td>\n",
       "      <td>Education</td>\n",
       "      <td>not working properly</td>\n",
       "      <td>Negative</td>\n",
       "    </tr>\n",
       "  </tbody>\n",
       "</table>\n",
       "</div>"
      ],
      "text/plain": [
       "  App_name   Category                                        User_Review  \\\n",
       "0  brainly  Education  �Horrible. This app has changed so much. I've ...   \n",
       "1  brainly  Education                          The app is not responding   \n",
       "2  brainly  Education           Not working properly plz fix the problem   \n",
       "3  brainly  Education                                    App is not good   \n",
       "4  brainly  Education                               not working properly   \n",
       "\n",
       "  Sentiments  \n",
       "0   Negative  \n",
       "1   Negative  \n",
       "2   Negative  \n",
       "3   Negative  \n",
       "4   Negative  "
      ]
     },
     "execution_count": 2,
     "metadata": {},
     "output_type": "execute_result"
    }
   ],
   "source": [
    "data = pd.read_csv(\"sentiment22-final.csv\")\n",
    "data.head()"
   ]
  },
  {
   "cell_type": "code",
   "execution_count": 3,
   "metadata": {},
   "outputs": [
    {
     "name": "stdout",
     "output_type": "stream",
     "text": [
      "Positive    6177\n",
      "Negative    3136\n",
      "Neutral      686\n",
      "Name: Sentiments, dtype: int64\n"
     ]
    }
   ],
   "source": [
    "classes = data['Sentiments']\n",
    "print(classes.value_counts())"
   ]
  },
  {
   "cell_type": "code",
   "execution_count": 4,
   "metadata": {},
   "outputs": [
    {
     "data": {
      "text/plain": [
       "(9999, 4)"
      ]
     },
     "execution_count": 4,
     "metadata": {},
     "output_type": "execute_result"
    }
   ],
   "source": [
    "data.shape"
   ]
  },
  {
   "cell_type": "code",
   "execution_count": 5,
   "metadata": {},
   "outputs": [
    {
     "data": {
      "text/html": [
       "<div>\n",
       "<style scoped>\n",
       "    .dataframe tbody tr th:only-of-type {\n",
       "        vertical-align: middle;\n",
       "    }\n",
       "\n",
       "    .dataframe tbody tr th {\n",
       "        vertical-align: top;\n",
       "    }\n",
       "\n",
       "    .dataframe thead th {\n",
       "        text-align: right;\n",
       "    }\n",
       "</style>\n",
       "<table border=\"1\" class=\"dataframe\">\n",
       "  <thead>\n",
       "    <tr style=\"text-align: right;\">\n",
       "      <th></th>\n",
       "      <th>User_Review</th>\n",
       "      <th>Sentiments</th>\n",
       "    </tr>\n",
       "  </thead>\n",
       "  <tbody>\n",
       "    <tr>\n",
       "      <th>0</th>\n",
       "      <td>�Horrible. This app has changed so much. I've ...</td>\n",
       "      <td>Negative</td>\n",
       "    </tr>\n",
       "    <tr>\n",
       "      <th>1</th>\n",
       "      <td>The app is not responding</td>\n",
       "      <td>Negative</td>\n",
       "    </tr>\n",
       "    <tr>\n",
       "      <th>2</th>\n",
       "      <td>Not working properly plz fix the problem</td>\n",
       "      <td>Negative</td>\n",
       "    </tr>\n",
       "    <tr>\n",
       "      <th>3</th>\n",
       "      <td>App is not good</td>\n",
       "      <td>Negative</td>\n",
       "    </tr>\n",
       "    <tr>\n",
       "      <th>4</th>\n",
       "      <td>not working properly</td>\n",
       "      <td>Negative</td>\n",
       "    </tr>\n",
       "  </tbody>\n",
       "</table>\n",
       "</div>"
      ],
      "text/plain": [
       "                                         User_Review Sentiments\n",
       "0  �Horrible. This app has changed so much. I've ...   Negative\n",
       "1                          The app is not responding   Negative\n",
       "2           Not working properly plz fix the problem   Negative\n",
       "3                                    App is not good   Negative\n",
       "4                               not working properly   Negative"
      ]
     },
     "execution_count": 5,
     "metadata": {},
     "output_type": "execute_result"
    }
   ],
   "source": [
    "data = data[['User_Review', 'Sentiments']]\n",
    "data.head()"
   ]
  },
  {
   "cell_type": "code",
   "execution_count": 7,
   "metadata": {},
   "outputs": [],
   "source": [
    "def clean_train_data(x):\n",
    "    text = x\n",
    "    text = text.lower()\n",
    "    text = re.sub('\\[.*?\\]', '', text) # remove square brackets\n",
    "    text = re.sub(r'[^\\w\\s]','',text) # remove punctuation\n",
    "    text = re.sub('\\w*\\d\\w*', '', text) # remove words containing numbers\n",
    "    text = re.sub('\\n', '', text)\n",
    "    return text"
   ]
  },
  {
   "cell_type": "code",
   "execution_count": 8,
   "metadata": {},
   "outputs": [
    {
     "data": {
      "text/html": [
       "<div>\n",
       "<style scoped>\n",
       "    .dataframe tbody tr th:only-of-type {\n",
       "        vertical-align: middle;\n",
       "    }\n",
       "\n",
       "    .dataframe tbody tr th {\n",
       "        vertical-align: top;\n",
       "    }\n",
       "\n",
       "    .dataframe thead th {\n",
       "        text-align: right;\n",
       "    }\n",
       "</style>\n",
       "<table border=\"1\" class=\"dataframe\">\n",
       "  <thead>\n",
       "    <tr style=\"text-align: right;\">\n",
       "      <th></th>\n",
       "      <th>User_Review</th>\n",
       "      <th>Sentiments</th>\n",
       "    </tr>\n",
       "  </thead>\n",
       "  <tbody>\n",
       "    <tr>\n",
       "      <th>0</th>\n",
       "      <td>horrible this app has changed so much ive plac...</td>\n",
       "      <td>Negative</td>\n",
       "    </tr>\n",
       "    <tr>\n",
       "      <th>1</th>\n",
       "      <td>the app is not responding</td>\n",
       "      <td>Negative</td>\n",
       "    </tr>\n",
       "    <tr>\n",
       "      <th>2</th>\n",
       "      <td>not working properly plz fix the problem</td>\n",
       "      <td>Negative</td>\n",
       "    </tr>\n",
       "    <tr>\n",
       "      <th>3</th>\n",
       "      <td>app is not good</td>\n",
       "      <td>Negative</td>\n",
       "    </tr>\n",
       "    <tr>\n",
       "      <th>4</th>\n",
       "      <td>not working properly</td>\n",
       "      <td>Negative</td>\n",
       "    </tr>\n",
       "  </tbody>\n",
       "</table>\n",
       "</div>"
      ],
      "text/plain": [
       "                                         User_Review Sentiments\n",
       "0  horrible this app has changed so much ive plac...   Negative\n",
       "1                          the app is not responding   Negative\n",
       "2           not working properly plz fix the problem   Negative\n",
       "3                                    app is not good   Negative\n",
       "4                               not working properly   Negative"
      ]
     },
     "execution_count": 8,
     "metadata": {},
     "output_type": "execute_result"
    }
   ],
   "source": [
    "\n",
    "data['User_Review'] = data.User_Review.apply(lambda x : clean_train_data(x))\n",
    "data.head()"
   ]
  },
  {
   "cell_type": "code",
   "execution_count": 11,
   "metadata": {},
   "outputs": [],
   "source": [
    "all_cat_data = data.copy()"
   ]
  },
  {
   "cell_type": "markdown",
   "metadata": {},
   "source": [
    "# 2 Class Analysis"
   ]
  },
  {
   "cell_type": "code",
   "execution_count": 9,
   "metadata": {},
   "outputs": [
    {
     "data": {
      "text/html": [
       "<div>\n",
       "<style scoped>\n",
       "    .dataframe tbody tr th:only-of-type {\n",
       "        vertical-align: middle;\n",
       "    }\n",
       "\n",
       "    .dataframe tbody tr th {\n",
       "        vertical-align: top;\n",
       "    }\n",
       "\n",
       "    .dataframe thead th {\n",
       "        text-align: right;\n",
       "    }\n",
       "</style>\n",
       "<table border=\"1\" class=\"dataframe\">\n",
       "  <thead>\n",
       "    <tr style=\"text-align: right;\">\n",
       "      <th></th>\n",
       "      <th>User_Review</th>\n",
       "      <th>Sentiments</th>\n",
       "    </tr>\n",
       "  </thead>\n",
       "  <tbody>\n",
       "    <tr>\n",
       "      <th>0</th>\n",
       "      <td>horrible this app has changed so much ive plac...</td>\n",
       "      <td>Negative</td>\n",
       "    </tr>\n",
       "    <tr>\n",
       "      <th>1</th>\n",
       "      <td>the app is not responding</td>\n",
       "      <td>Negative</td>\n",
       "    </tr>\n",
       "    <tr>\n",
       "      <th>2</th>\n",
       "      <td>not working properly plz fix the problem</td>\n",
       "      <td>Negative</td>\n",
       "    </tr>\n",
       "    <tr>\n",
       "      <th>3</th>\n",
       "      <td>app is not good</td>\n",
       "      <td>Negative</td>\n",
       "    </tr>\n",
       "    <tr>\n",
       "      <th>4</th>\n",
       "      <td>not working properly</td>\n",
       "      <td>Negative</td>\n",
       "    </tr>\n",
       "  </tbody>\n",
       "</table>\n",
       "</div>"
      ],
      "text/plain": [
       "                                         User_Review Sentiments\n",
       "0  horrible this app has changed so much ive plac...   Negative\n",
       "1                          the app is not responding   Negative\n",
       "2           not working properly plz fix the problem   Negative\n",
       "3                                    app is not good   Negative\n",
       "4                               not working properly   Negative"
      ]
     },
     "execution_count": 9,
     "metadata": {},
     "output_type": "execute_result"
    }
   ],
   "source": [
    "data = data[data['Sentiments'] != 'Neutral']\n",
    "data.head()"
   ]
  },
  {
   "cell_type": "code",
   "execution_count": 10,
   "metadata": {},
   "outputs": [
    {
     "name": "stdout",
     "output_type": "stream",
     "text": [
      "6177\n",
      "3136\n",
      "0\n"
     ]
    }
   ],
   "source": [
    "print(len(data[data['Sentiments'] == 'Positive']))\n",
    "print(len(data[ data['Sentiments'] == 'Negative']))\n",
    "print(len(data[ data['Sentiments'] == 'Neutral']))"
   ]
  },
  {
   "cell_type": "code",
   "execution_count": 11,
   "metadata": {},
   "outputs": [],
   "source": [
    "model1_data = data.copy()"
   ]
  },
  {
   "cell_type": "code",
   "execution_count": 12,
   "metadata": {},
   "outputs": [],
   "source": [
    "max_features = 2000\n",
    "token = Tokenizer(num_words=max_features, split = ' ')\n",
    "token.fit_on_texts(data['User_Review'].values)\n",
    "\n",
    "X = token.texts_to_sequences(data['User_Review'].values)\n",
    "X = pad_sequences(X)"
   ]
  },
  {
   "cell_type": "code",
   "execution_count": 13,
   "metadata": {},
   "outputs": [
    {
     "data": {
      "text/plain": [
       "(9313, 118)"
      ]
     },
     "execution_count": 13,
     "metadata": {},
     "output_type": "execute_result"
    }
   ],
   "source": [
    "X.shape"
   ]
  },
  {
   "cell_type": "code",
   "execution_count": 14,
   "metadata": {},
   "outputs": [
    {
     "name": "stdout",
     "output_type": "stream",
     "text": [
      "Model: \"sequential\"\n",
      "_________________________________________________________________\n",
      "Layer (type)                 Output Shape              Param #   \n",
      "=================================================================\n",
      "embedding (Embedding)        (None, 118, 128)          256000    \n",
      "_________________________________________________________________\n",
      "spatial_dropout1d (SpatialDr (None, 118, 128)          0         \n",
      "_________________________________________________________________\n",
      "lstm (LSTM)                  (None, 196)               254800    \n",
      "_________________________________________________________________\n",
      "dense (Dense)                (None, 2)                 394       \n",
      "=================================================================\n",
      "Total params: 511,194\n",
      "Trainable params: 511,194\n",
      "Non-trainable params: 0\n",
      "_________________________________________________________________\n"
     ]
    }
   ],
   "source": [
    "embed_dim = 128\n",
    "lstm_out = 196\n",
    "\n",
    "model = Sequential()\n",
    "model.add(Embedding(max_features, embed_dim, input_length = X.shape[1]))\n",
    "model.add(SpatialDropout1D(0.4))\n",
    "model.add(LSTM(lstm_out, dropout=0.2, recurrent_dropout=0.2))\n",
    "model.add(Dense(2, activation='softmax'))\n",
    "model.compile(loss='categorical_crossentropy', optimizer='adam', metrics=['accuracy'])\n",
    "\n",
    "model.summary()"
   ]
  },
  {
   "cell_type": "code",
   "execution_count": 15,
   "metadata": {},
   "outputs": [],
   "source": [
    "Y = pd.get_dummies(data['Sentiments']).values"
   ]
  },
  {
   "cell_type": "code",
   "execution_count": 16,
   "metadata": {},
   "outputs": [],
   "source": [
    "X_train, X_test, y_train, y_test = train_test_split(X,Y, test_size=0.30, random_state=42)"
   ]
  },
  {
   "cell_type": "code",
   "execution_count": 17,
   "metadata": {},
   "outputs": [
    {
     "name": "stdout",
     "output_type": "stream",
     "text": [
      "Epoch 1/10\n",
      "204/204 - 70s - loss: 0.4251 - accuracy: 0.8087\n",
      "Epoch 2/10\n",
      "204/204 - 71s - loss: 0.2695 - accuracy: 0.9061\n",
      "Epoch 3/10\n",
      "204/204 - 71s - loss: 0.2319 - accuracy: 0.9189\n",
      "Epoch 4/10\n",
      "204/204 - 72s - loss: 0.2057 - accuracy: 0.9297\n",
      "Epoch 5/10\n",
      "204/204 - 70s - loss: 0.1904 - accuracy: 0.9348\n",
      "Epoch 6/10\n",
      "204/204 - 70s - loss: 0.1732 - accuracy: 0.9417\n",
      "Epoch 7/10\n",
      "204/204 - 69s - loss: 0.1747 - accuracy: 0.9408\n",
      "Epoch 8/10\n",
      "204/204 - 69s - loss: 0.1563 - accuracy: 0.9474\n",
      "Epoch 9/10\n",
      "204/204 - 69s - loss: 0.1476 - accuracy: 0.9495\n",
      "Epoch 10/10\n",
      "204/204 - 69s - loss: 0.1465 - accuracy: 0.9486\n"
     ]
    }
   ],
   "source": [
    "batch_size = 32\n",
    "history = model.fit(X_train, y_train, epochs=10, batch_size=batch_size, verbose=2)"
   ]
  },
  {
   "cell_type": "code",
   "execution_count": 18,
   "metadata": {},
   "outputs": [
    {
     "name": "stdout",
     "output_type": "stream",
     "text": [
      "88/88 - 3s - loss: 0.3134 - accuracy: 0.9123\n",
      "score 0.31344369053840637\n",
      "accuracy 0.9123120903968811\n"
     ]
    }
   ],
   "source": [
    "# score = model.predict(X_test)\n",
    "score, acc = model.evaluate(X_test, y_test, batch_size=batch_size, verbose=2)\n",
    "print('score', score)\n",
    "print('accuracy', acc)"
   ]
  },
  {
   "cell_type": "code",
   "execution_count": 19,
   "metadata": {},
   "outputs": [
    {
     "name": "stdout",
     "output_type": "stream",
     "text": [
      "WARNING:tensorflow:Model was constructed with shape (None, 118) for input Tensor(\"embedding_input:0\", shape=(None, 118), dtype=float32), but it was called on an input with incompatible shape (1, 28).\n",
      "1/1 - 0s\n"
     ]
    },
    {
     "data": {
      "text/plain": [
       "array([[0.01426646, 0.9857335 ]], dtype=float32)"
      ]
     },
     "execution_count": 19,
     "metadata": {},
     "output_type": "execute_result"
    }
   ],
   "source": [
    "text = ['i would recommend it if you have no other options']\n",
    "text = token.texts_to_sequences(text)\n",
    "text = pad_sequences(text, maxlen=28, dtype='int32', value=0)\n",
    "res = model.predict(text, batch_size=1,verbose = 2)\n",
    "res"
   ]
  },
  {
   "cell_type": "code",
   "execution_count": 20,
   "metadata": {},
   "outputs": [
    {
     "name": "stdout",
     "output_type": "stream",
     "text": [
      "Positive Comment\n"
     ]
    }
   ],
   "source": [
    "if np.argmax(res[0]) == 0:\n",
    "    print(\"Negetive Comment\")\n",
    "elif np.argmax(res[0]) == 1:\n",
    "    print(\"Positive Comment\")"
   ]
  },
  {
   "cell_type": "markdown",
   "metadata": {},
   "source": [
    "# Multiclass Sentiment Analysis"
   ]
  },
  {
   "cell_type": "markdown",
   "metadata": {},
   "source": [
    "### data preprocessing"
   ]
  },
  {
   "cell_type": "code",
   "execution_count": 12,
   "metadata": {},
   "outputs": [],
   "source": [
    "ms_data = all_cat_data.copy()"
   ]
  },
  {
   "cell_type": "code",
   "execution_count": 22,
   "metadata": {},
   "outputs": [
    {
     "data": {
      "text/html": [
       "<div>\n",
       "<style scoped>\n",
       "    .dataframe tbody tr th:only-of-type {\n",
       "        vertical-align: middle;\n",
       "    }\n",
       "\n",
       "    .dataframe tbody tr th {\n",
       "        vertical-align: top;\n",
       "    }\n",
       "\n",
       "    .dataframe thead th {\n",
       "        text-align: right;\n",
       "    }\n",
       "</style>\n",
       "<table border=\"1\" class=\"dataframe\">\n",
       "  <thead>\n",
       "    <tr style=\"text-align: right;\">\n",
       "      <th></th>\n",
       "      <th>User_Review</th>\n",
       "      <th>Sentiments</th>\n",
       "    </tr>\n",
       "  </thead>\n",
       "  <tbody>\n",
       "    <tr>\n",
       "      <th>0</th>\n",
       "      <td>horrible this app has changed so much ive plac...</td>\n",
       "      <td>Negative</td>\n",
       "    </tr>\n",
       "    <tr>\n",
       "      <th>1</th>\n",
       "      <td>the app is not responding</td>\n",
       "      <td>Negative</td>\n",
       "    </tr>\n",
       "    <tr>\n",
       "      <th>2</th>\n",
       "      <td>not working properly plz fix the problem</td>\n",
       "      <td>Negative</td>\n",
       "    </tr>\n",
       "    <tr>\n",
       "      <th>3</th>\n",
       "      <td>app is not good</td>\n",
       "      <td>Negative</td>\n",
       "    </tr>\n",
       "    <tr>\n",
       "      <th>4</th>\n",
       "      <td>not working properly</td>\n",
       "      <td>Negative</td>\n",
       "    </tr>\n",
       "  </tbody>\n",
       "</table>\n",
       "</div>"
      ],
      "text/plain": [
       "                                         User_Review Sentiments\n",
       "0  horrible this app has changed so much ive plac...   Negative\n",
       "1                          the app is not responding   Negative\n",
       "2           not working properly plz fix the problem   Negative\n",
       "3                                    app is not good   Negative\n",
       "4                               not working properly   Negative"
      ]
     },
     "execution_count": 22,
     "metadata": {},
     "output_type": "execute_result"
    }
   ],
   "source": [
    "ms_data.head()"
   ]
  },
  {
   "cell_type": "code",
   "execution_count": 13,
   "metadata": {},
   "outputs": [
    {
     "data": {
      "text/html": [
       "<div>\n",
       "<style scoped>\n",
       "    .dataframe tbody tr th:only-of-type {\n",
       "        vertical-align: middle;\n",
       "    }\n",
       "\n",
       "    .dataframe tbody tr th {\n",
       "        vertical-align: top;\n",
       "    }\n",
       "\n",
       "    .dataframe thead th {\n",
       "        text-align: right;\n",
       "    }\n",
       "</style>\n",
       "<table border=\"1\" class=\"dataframe\">\n",
       "  <thead>\n",
       "    <tr style=\"text-align: right;\">\n",
       "      <th></th>\n",
       "      <th>User_Review</th>\n",
       "      <th>Sentiments</th>\n",
       "      <th>label</th>\n",
       "    </tr>\n",
       "  </thead>\n",
       "  <tbody>\n",
       "    <tr>\n",
       "      <th>912</th>\n",
       "      <td>very worst app</td>\n",
       "      <td>Negative</td>\n",
       "      <td>0</td>\n",
       "    </tr>\n",
       "    <tr>\n",
       "      <th>5970</th>\n",
       "      <td>useful and handy</td>\n",
       "      <td>Positive</td>\n",
       "      <td>0</td>\n",
       "    </tr>\n",
       "    <tr>\n",
       "      <th>6603</th>\n",
       "      <td>excellent excercise for the brain fun exciting</td>\n",
       "      <td>Positive</td>\n",
       "      <td>0</td>\n",
       "    </tr>\n",
       "    <tr>\n",
       "      <th>4527</th>\n",
       "      <td>nice app</td>\n",
       "      <td>Positive</td>\n",
       "      <td>0</td>\n",
       "    </tr>\n",
       "    <tr>\n",
       "      <th>1514</th>\n",
       "      <td>sign up problems</td>\n",
       "      <td>Negative</td>\n",
       "      <td>0</td>\n",
       "    </tr>\n",
       "  </tbody>\n",
       "</table>\n",
       "</div>"
      ],
      "text/plain": [
       "                                         User_Review Sentiments  label\n",
       "912                                   very worst app   Negative      0\n",
       "5970                                useful and handy   Positive      0\n",
       "6603  excellent excercise for the brain fun exciting   Positive      0\n",
       "4527                                       nice app    Positive      0\n",
       "1514                                sign up problems   Negative      0"
      ]
     },
     "execution_count": 13,
     "metadata": {},
     "output_type": "execute_result"
    }
   ],
   "source": [
    "num_of_rows = 4000\n",
    "shuffled = ms_data.reindex(np.random.permutation(ms_data.index))\n",
    "nt = shuffled[shuffled['Sentiments'] == 'Neutral'][:num_of_rows]\n",
    "ng = shuffled[shuffled['Sentiments'] == 'Negative'][:num_of_rows]\n",
    "ps = shuffled[shuffled['Sentiments'] == 'Positive'][:num_of_rows]\n",
    "combine_data = pd.concat([nt, ng, ps], ignore_index=True)\n",
    "combine_data = combine_data.reindex(np.random.permutation(combine_data.index))\n",
    "combine_data['label'] = 0\n",
    "combine_data.head()"
   ]
  },
  {
   "cell_type": "code",
   "execution_count": 14,
   "metadata": {},
   "outputs": [
    {
     "name": "stdout",
     "output_type": "stream",
     "text": [
      "Positive    6177\n",
      "Negative    3136\n",
      "Neutral      686\n",
      "Name: Sentiments, dtype: int64\n"
     ]
    }
   ],
   "source": [
    "classes = data['Sentiments']\n",
    "print(classes.value_counts())"
   ]
  },
  {
   "cell_type": "code",
   "execution_count": 15,
   "metadata": {},
   "outputs": [
    {
     "name": "stdout",
     "output_type": "stream",
     "text": [
      "686\n",
      "3136\n",
      "4000\n"
     ]
    }
   ],
   "source": [
    "print(len(combine_data[combine_data['Sentiments'] == 'Neutral']))\n",
    "print(len(combine_data[combine_data['Sentiments'] == 'Negative']))\n",
    "print(len(combine_data[combine_data['Sentiments'] == 'Positive']))"
   ]
  },
  {
   "cell_type": "code",
   "execution_count": 16,
   "metadata": {},
   "outputs": [],
   "source": [
    "ms_data = combine_data.copy()"
   ]
  },
  {
   "cell_type": "code",
   "execution_count": 17,
   "metadata": {},
   "outputs": [
    {
     "name": "stdout",
     "output_type": "stream",
     "text": [
      "686\n",
      "3136\n",
      "4000\n"
     ]
    }
   ],
   "source": [
    "print(len(ms_data[ms_data['Sentiments'] == 'Neutral']))\n",
    "print(len(ms_data[ms_data['Sentiments'] == 'Negative']))\n",
    "print(len(ms_data[ms_data['Sentiments'] == 'Positive']))"
   ]
  },
  {
   "cell_type": "code",
   "execution_count": 18,
   "metadata": {},
   "outputs": [],
   "source": [
    "ms_data.loc[ms_data['Sentiments'] == 'Neutral', 'label'] = 0\n",
    "ms_data.loc[ms_data['Sentiments'] == 'Negative', 'label'] = 1\n",
    "ms_data.loc[ms_data['Sentiments'] == 'Positive', 'label'] = 2"
   ]
  },
  {
   "cell_type": "code",
   "execution_count": 19,
   "metadata": {},
   "outputs": [
    {
     "data": {
      "text/html": [
       "<div>\n",
       "<style scoped>\n",
       "    .dataframe tbody tr th:only-of-type {\n",
       "        vertical-align: middle;\n",
       "    }\n",
       "\n",
       "    .dataframe tbody tr th {\n",
       "        vertical-align: top;\n",
       "    }\n",
       "\n",
       "    .dataframe thead th {\n",
       "        text-align: right;\n",
       "    }\n",
       "</style>\n",
       "<table border=\"1\" class=\"dataframe\">\n",
       "  <thead>\n",
       "    <tr style=\"text-align: right;\">\n",
       "      <th></th>\n",
       "      <th>User_Review</th>\n",
       "      <th>Sentiments</th>\n",
       "      <th>label</th>\n",
       "    </tr>\n",
       "  </thead>\n",
       "  <tbody>\n",
       "    <tr>\n",
       "      <th>912</th>\n",
       "      <td>very worst app</td>\n",
       "      <td>Negative</td>\n",
       "      <td>1</td>\n",
       "    </tr>\n",
       "    <tr>\n",
       "      <th>5970</th>\n",
       "      <td>useful and handy</td>\n",
       "      <td>Positive</td>\n",
       "      <td>2</td>\n",
       "    </tr>\n",
       "    <tr>\n",
       "      <th>6603</th>\n",
       "      <td>excellent excercise for the brain fun exciting</td>\n",
       "      <td>Positive</td>\n",
       "      <td>2</td>\n",
       "    </tr>\n",
       "    <tr>\n",
       "      <th>4527</th>\n",
       "      <td>nice app</td>\n",
       "      <td>Positive</td>\n",
       "      <td>2</td>\n",
       "    </tr>\n",
       "    <tr>\n",
       "      <th>1514</th>\n",
       "      <td>sign up problems</td>\n",
       "      <td>Negative</td>\n",
       "      <td>1</td>\n",
       "    </tr>\n",
       "    <tr>\n",
       "      <th>1697</th>\n",
       "      <td>unreadable much wiese than online version</td>\n",
       "      <td>Negative</td>\n",
       "      <td>1</td>\n",
       "    </tr>\n",
       "    <tr>\n",
       "      <th>5195</th>\n",
       "      <td>knowing the meaning of words can be useful in ...</td>\n",
       "      <td>Positive</td>\n",
       "      <td>2</td>\n",
       "    </tr>\n",
       "    <tr>\n",
       "      <th>1713</th>\n",
       "      <td>nothing is working</td>\n",
       "      <td>Negative</td>\n",
       "      <td>1</td>\n",
       "    </tr>\n",
       "    <tr>\n",
       "      <th>67</th>\n",
       "      <td>most helpful but sometimes videos are not working</td>\n",
       "      <td>Neutral</td>\n",
       "      <td>0</td>\n",
       "    </tr>\n",
       "    <tr>\n",
       "      <th>7605</th>\n",
       "      <td>i love this app</td>\n",
       "      <td>Positive</td>\n",
       "      <td>2</td>\n",
       "    </tr>\n",
       "  </tbody>\n",
       "</table>\n",
       "</div>"
      ],
      "text/plain": [
       "                                            User_Review Sentiments  label\n",
       "912                                      very worst app   Negative      1\n",
       "5970                                   useful and handy   Positive      2\n",
       "6603     excellent excercise for the brain fun exciting   Positive      2\n",
       "4527                                          nice app    Positive      2\n",
       "1514                                   sign up problems   Negative      1\n",
       "1697          unreadable much wiese than online version   Negative      1\n",
       "5195  knowing the meaning of words can be useful in ...   Positive      2\n",
       "1713                                 nothing is working   Negative      1\n",
       "67    most helpful but sometimes videos are not working    Neutral      0\n",
       "7605                                    i love this app   Positive      2"
      ]
     },
     "execution_count": 19,
     "metadata": {},
     "output_type": "execute_result"
    }
   ],
   "source": [
    "ms_data.head(10)"
   ]
  },
  {
   "cell_type": "code",
   "execution_count": 20,
   "metadata": {},
   "outputs": [],
   "source": [
    "from keras.utils import to_categorical"
   ]
  },
  {
   "cell_type": "code",
   "execution_count": 21,
   "metadata": {},
   "outputs": [],
   "source": [
    "labels = to_categorical(ms_data['label'], num_classes=3)"
   ]
  },
  {
   "cell_type": "code",
   "execution_count": 22,
   "metadata": {},
   "outputs": [
    {
     "data": {
      "text/plain": [
       "(7822, 3)"
      ]
     },
     "execution_count": 22,
     "metadata": {},
     "output_type": "execute_result"
    }
   ],
   "source": [
    "labels.shape"
   ]
  },
  {
   "cell_type": "code",
   "execution_count": 23,
   "metadata": {},
   "outputs": [
    {
     "data": {
      "text/plain": [
       "array([[0., 1., 0.],\n",
       "       [0., 0., 1.],\n",
       "       [0., 0., 1.],\n",
       "       [0., 0., 1.],\n",
       "       [0., 1., 0.],\n",
       "       [0., 1., 0.],\n",
       "       [0., 0., 1.],\n",
       "       [0., 1., 0.],\n",
       "       [1., 0., 0.],\n",
       "       [0., 0., 1.]], dtype=float32)"
      ]
     },
     "execution_count": 23,
     "metadata": {},
     "output_type": "execute_result"
    }
   ],
   "source": [
    "labels[:10]"
   ]
  },
  {
   "cell_type": "code",
   "execution_count": 24,
   "metadata": {},
   "outputs": [],
   "source": [
    "max_features = 3000\n",
    "max_len = 130\n",
    "ms_token = Tokenizer(num_words=max_features)\n",
    "ms_token.fit_on_texts(ms_data['User_Review'].values)\n",
    "ms_sequences = ms_token.texts_to_sequences(ms_data['User_Review'].values)\n",
    "X = pad_sequences(ms_sequences, maxlen=max_len)"
   ]
  },
  {
   "cell_type": "code",
   "execution_count": 25,
   "metadata": {},
   "outputs": [
    {
     "name": "stdout",
     "output_type": "stream",
     "text": [
      "Found 5160 unique tokens.\n"
     ]
    }
   ],
   "source": [
    "word_index = ms_token.word_index\n",
    "print('Found %s unique tokens.' % len(word_index))"
   ]
  },
  {
   "cell_type": "code",
   "execution_count": 26,
   "metadata": {},
   "outputs": [],
   "source": [
    "y = labels"
   ]
  },
  {
   "cell_type": "code",
   "execution_count": 27,
   "metadata": {},
   "outputs": [],
   "source": [
    "X_train, X_test, y_train, y_test = train_test_split(X,y, test_size=0.30, random_state=42)"
   ]
  },
  {
   "cell_type": "code",
   "execution_count": 28,
   "metadata": {},
   "outputs": [],
   "source": [
    "embed_dim = 128\n",
    "lstm_out = 96"
   ]
  },
  {
   "cell_type": "code",
   "execution_count": 29,
   "metadata": {},
   "outputs": [
    {
     "name": "stdout",
     "output_type": "stream",
     "text": [
      "Model: \"sequential\"\n",
      "_________________________________________________________________\n",
      "Layer (type)                 Output Shape              Param #   \n",
      "=================================================================\n",
      "embedding (Embedding)        (None, 130, 128)          384000    \n",
      "_________________________________________________________________\n",
      "spatial_dropout1d (SpatialDr (None, 130, 128)          0         \n",
      "_________________________________________________________________\n",
      "lstm (LSTM)                  (None, 64)                49408     \n",
      "_________________________________________________________________\n",
      "dense (Dense)                (None, 3)                 195       \n",
      "=================================================================\n",
      "Total params: 433,603\n",
      "Trainable params: 433,603\n",
      "Non-trainable params: 0\n",
      "_________________________________________________________________\n"
     ]
    }
   ],
   "source": [
    "ms_model = Sequential()\n",
    "ms_model.add(Embedding(max_features, embed_dim, input_length = X.shape[1]))\n",
    "ms_model.add(SpatialDropout1D(0.7))\n",
    "ms_model.add(LSTM(64, dropout=0.7, recurrent_dropout=0.7))\n",
    "ms_model.add(Dense(3, activation='softmax'))\n",
    "ms_model.compile(loss='categorical_crossentropy', optimizer='adam', metrics=['acc'])\n",
    "\n",
    "ms_model.summary()"
   ]
  },
  {
   "cell_type": "code",
   "execution_count": 31,
   "metadata": {},
   "outputs": [],
   "source": [
    "from keras.callbacks import EarlyStopping"
   ]
  },
  {
   "cell_type": "code",
   "execution_count": 32,
   "metadata": {},
   "outputs": [
    {
     "name": "stdout",
     "output_type": "stream",
     "text": [
      "Epoch 1/20\n",
      "88/88 [==============================] - 13s 148ms/step - loss: 0.9115 - acc: 0.5347 - val_loss: 0.8349 - val_acc: 0.6046\n",
      "Epoch 2/20\n",
      "88/88 [==============================] - 12s 137ms/step - loss: 0.7445 - acc: 0.6913 - val_loss: 0.6066 - val_acc: 0.7717\n",
      "Epoch 3/20\n",
      "88/88 [==============================] - 12s 136ms/step - loss: 0.5661 - acc: 0.7801 - val_loss: 0.5040 - val_acc: 0.8201\n",
      "Epoch 4/20\n",
      "88/88 [==============================] - 12s 139ms/step - loss: 0.4778 - acc: 0.8272 - val_loss: 0.4745 - val_acc: 0.8374\n",
      "Epoch 5/20\n",
      "88/88 [==============================] - 12s 142ms/step - loss: 0.4311 - acc: 0.8443 - val_loss: 0.4519 - val_acc: 0.8502\n",
      "Epoch 6/20\n",
      "88/88 [==============================] - 12s 136ms/step - loss: 0.3892 - acc: 0.8591 - val_loss: 0.4206 - val_acc: 0.8630\n",
      "Epoch 7/20\n",
      "88/88 [==============================] - 12s 136ms/step - loss: 0.3536 - acc: 0.8776 - val_loss: 0.4141 - val_acc: 0.8648\n",
      "Epoch 8/20\n",
      "88/88 [==============================] - 12s 137ms/step - loss: 0.3355 - acc: 0.8826 - val_loss: 0.4133 - val_acc: 0.8594\n",
      "Epoch 9/20\n",
      "88/88 [==============================] - 12s 137ms/step - loss: 0.3152 - acc: 0.8925 - val_loss: 0.4180 - val_acc: 0.8712\n",
      "Epoch 10/20\n",
      "88/88 [==============================] - 12s 136ms/step - loss: 0.3075 - acc: 0.8963 - val_loss: 0.3911 - val_acc: 0.8721\n",
      "Epoch 11/20\n",
      "88/88 [==============================] - 12s 139ms/step - loss: 0.2937 - acc: 0.9011 - val_loss: 0.3754 - val_acc: 0.8795\n",
      "Epoch 12/20\n",
      "88/88 [==============================] - 13s 144ms/step - loss: 0.2773 - acc: 0.9014 - val_loss: 0.3778 - val_acc: 0.8785\n",
      "Epoch 13/20\n",
      "88/88 [==============================] - 12s 141ms/step - loss: 0.2688 - acc: 0.9082 - val_loss: 0.3947 - val_acc: 0.8712\n",
      "Epoch 14/20\n",
      "88/88 [==============================] - 12s 138ms/step - loss: 0.2579 - acc: 0.9107 - val_loss: 0.3889 - val_acc: 0.8767\n",
      "Epoch 15/20\n",
      "88/88 [==============================] - 12s 136ms/step - loss: 0.2528 - acc: 0.9110 - val_loss: 0.3880 - val_acc: 0.8721\n",
      "Epoch 16/20\n",
      "88/88 [==============================] - 12s 136ms/step - loss: 0.2615 - acc: 0.9046 - val_loss: 0.3824 - val_acc: 0.8804\n",
      "Epoch 17/20\n",
      "88/88 [==============================] - 12s 137ms/step - loss: 0.2425 - acc: 0.9146 - val_loss: 0.3956 - val_acc: 0.8785\n",
      "Epoch 18/20\n",
      "88/88 [==============================] - 12s 137ms/step - loss: 0.2342 - acc: 0.9228 - val_loss: 0.3720 - val_acc: 0.8822\n",
      "Epoch 19/20\n",
      "88/88 [==============================] - 12s 136ms/step - loss: 0.2263 - acc: 0.9196 - val_loss: 0.3809 - val_acc: 0.8858\n",
      "Epoch 20/20\n",
      "88/88 [==============================] - 12s 136ms/step - loss: 0.2342 - acc: 0.9185 - val_loss: 0.3918 - val_acc: 0.8840\n"
     ]
    }
   ],
   "source": [
    "batch_size = 50\n",
    "ms_history = ms_model.fit(X_train, y_train, epochs=20, batch_size=batch_size,validation_split=0.2,callbacks=[EarlyStopping(monitor='val_loss',patience=7, min_delta=0.0001)])"
   ]
  },
  {
   "cell_type": "code",
   "execution_count": 34,
   "metadata": {},
   "outputs": [],
   "source": [
    "from sklearn.metrics import precision_score\n"
   ]
  },
  {
   "cell_type": "code",
   "execution_count": 35,
   "metadata": {},
   "outputs": [
    {
     "name": "stdout",
     "output_type": "stream",
     "text": [
      "74/74 [==============================] - 1s 17ms/step - loss: 0.4055 - acc: 0.8713\n",
      "loss 0.4054883122444153\n",
      "accuracy 0.8713250756263733\n"
     ]
    }
   ],
   "source": [
    "loss, accuracy = ms_model.evaluate(X_test, y_test)\n",
    "print(\"loss\", loss)\n",
    "print(\"accuracy\", accuracy)\n"
   ]
  },
  {
   "cell_type": "code",
   "execution_count": 42,
   "metadata": {},
   "outputs": [],
   "source": [
    "from sklearn import metrics\n",
    "con = metrics.confusion_matrix(y_test.argmax(axis=1), predictions.argmax(axis=1))"
   ]
  },
  {
   "cell_type": "code",
   "execution_count": 38,
   "metadata": {},
   "outputs": [
    {
     "data": {
      "text/plain": [
       "array([[1.18352444e-04, 1.09003996e-02, 9.88981247e-01],\n",
       "       [1.29490690e-02, 6.92314655e-02, 9.17819440e-01],\n",
       "       [5.84118068e-04, 5.09797316e-03, 9.94317949e-01],\n",
       "       ...,\n",
       "       [2.21776980e-04, 9.98198330e-01, 1.57989271e-03],\n",
       "       [1.79843057e-03, 1.87429547e-01, 8.10772002e-01],\n",
       "       [4.63938743e-01, 1.39752626e-01, 3.96308631e-01]], dtype=float32)"
      ]
     },
     "execution_count": 38,
     "metadata": {},
     "output_type": "execute_result"
    }
   ],
   "source": [
    "predictions = ms_model.predict(X_test)\n",
    "predictions"
   ]
  },
  {
   "cell_type": "code",
   "execution_count": 39,
   "metadata": {},
   "outputs": [
    {
     "data": {
      "text/html": [
       "<div>\n",
       "<style scoped>\n",
       "    .dataframe tbody tr th:only-of-type {\n",
       "        vertical-align: middle;\n",
       "    }\n",
       "\n",
       "    .dataframe tbody tr th {\n",
       "        vertical-align: top;\n",
       "    }\n",
       "\n",
       "    .dataframe thead th {\n",
       "        text-align: right;\n",
       "    }\n",
       "</style>\n",
       "<table border=\"1\" class=\"dataframe\">\n",
       "  <thead>\n",
       "    <tr style=\"text-align: right;\">\n",
       "      <th>Predicted</th>\n",
       "      <th>0</th>\n",
       "      <th>1</th>\n",
       "      <th>2</th>\n",
       "      <th>All</th>\n",
       "    </tr>\n",
       "    <tr>\n",
       "      <th>True</th>\n",
       "      <th></th>\n",
       "      <th></th>\n",
       "      <th></th>\n",
       "      <th></th>\n",
       "    </tr>\n",
       "  </thead>\n",
       "  <tbody>\n",
       "    <tr>\n",
       "      <th>0</th>\n",
       "      <td>164</td>\n",
       "      <td>24</td>\n",
       "      <td>22</td>\n",
       "      <td>210</td>\n",
       "    </tr>\n",
       "    <tr>\n",
       "      <th>1</th>\n",
       "      <td>12</td>\n",
       "      <td>801</td>\n",
       "      <td>125</td>\n",
       "      <td>938</td>\n",
       "    </tr>\n",
       "    <tr>\n",
       "      <th>2</th>\n",
       "      <td>20</td>\n",
       "      <td>99</td>\n",
       "      <td>1080</td>\n",
       "      <td>1199</td>\n",
       "    </tr>\n",
       "    <tr>\n",
       "      <th>All</th>\n",
       "      <td>196</td>\n",
       "      <td>924</td>\n",
       "      <td>1227</td>\n",
       "      <td>2347</td>\n",
       "    </tr>\n",
       "  </tbody>\n",
       "</table>\n",
       "</div>"
      ],
      "text/plain": [
       "Predicted    0    1     2   All\n",
       "True                           \n",
       "0          164   24    22   210\n",
       "1           12  801   125   938\n",
       "2           20   99  1080  1199\n",
       "All        196  924  1227  2347"
      ]
     },
     "execution_count": 39,
     "metadata": {},
     "output_type": "execute_result"
    }
   ],
   "source": [
    "pd.crosstab(y_test.argmax(axis=1), predictions.argmax(axis=1), rownames=['True'], colnames=['Predicted'], margins=True)\n"
   ]
  },
  {
   "cell_type": "code",
   "execution_count": 40,
   "metadata": {},
   "outputs": [
    {
     "data": {
      "text/plain": [
       "array([[ 164,   24,   22],\n",
       "       [  12,  801,  125],\n",
       "       [  20,   99, 1080]], dtype=int64)"
      ]
     },
     "execution_count": 40,
     "metadata": {},
     "output_type": "execute_result"
    }
   ],
   "source": [
    "metrics.confusion_matrix(y_test.argmax(axis=1), predictions.argmax(axis=1))\n"
   ]
  },
  {
   "cell_type": "code",
   "execution_count": 43,
   "metadata": {},
   "outputs": [
    {
     "data": {
      "text/plain": [
       "array([0.83673469, 0.86688312, 0.8801956 ])"
      ]
     },
     "execution_count": 43,
     "metadata": {},
     "output_type": "execute_result"
    }
   ],
   "source": [
    "precision = np.diag(con) / (np.diag(con) +(con.sum(axis=0) - np.diag(con)))\n",
    "precision\n"
   ]
  },
  {
   "cell_type": "code",
   "execution_count": 44,
   "metadata": {},
   "outputs": [
    {
     "data": {
      "text/plain": [
       "array([0.78095238, 0.85394456, 0.90075063])"
      ]
     },
     "execution_count": 44,
     "metadata": {},
     "output_type": "execute_result"
    }
   ],
   "source": [
    "recall = np.diag(con)/ ((con.sum(axis=1) - np.diag(con)) + np.diag(con))\n",
    "recall"
   ]
  },
  {
   "cell_type": "code",
   "execution_count": 45,
   "metadata": {},
   "outputs": [
    {
     "data": {
      "text/plain": [
       "array([0.80788177, 0.8603652 , 0.89035449])"
      ]
     },
     "execution_count": 45,
     "metadata": {},
     "output_type": "execute_result"
    }
   ],
   "source": [
    "f1_score = 2 * ((precision * recall) / (precision + recall))\n",
    "f1_score"
   ]
  },
  {
   "cell_type": "markdown",
   "metadata": {},
   "source": [
    "# 70:30"
   ]
  },
  {
   "cell_type": "code",
   "execution_count": 48,
   "metadata": {},
   "outputs": [
    {
     "name": "stdout",
     "output_type": "stream",
     "text": [
      "Epoch 1/20\n",
      "77/77 [==============================] - 11s 139ms/step - loss: 0.1864 - acc: 0.9379 - val_loss: 0.3939 - val_acc: 0.8840\n",
      "Epoch 2/20\n",
      "77/77 [==============================] - 11s 148ms/step - loss: 0.1719 - acc: 0.9382 - val_loss: 0.4088 - val_acc: 0.8904\n",
      "Epoch 3/20\n",
      "77/77 [==============================] - 11s 142ms/step - loss: 0.1732 - acc: 0.9363 - val_loss: 0.4283 - val_acc: 0.8795\n",
      "Epoch 4/20\n",
      "77/77 [==============================] - 11s 141ms/step - loss: 0.1794 - acc: 0.9368 - val_loss: 0.4071 - val_acc: 0.8822\n",
      "Epoch 5/20\n",
      "77/77 [==============================] - 11s 147ms/step - loss: 0.1694 - acc: 0.9418 - val_loss: 0.4184 - val_acc: 0.8822\n",
      "Epoch 6/20\n",
      "77/77 [==============================] - 13s 174ms/step - loss: 0.1715 - acc: 0.9397 - val_loss: 0.4140 - val_acc: 0.8849\n",
      "Epoch 7/20\n",
      "77/77 [==============================] - 13s 172ms/step - loss: 0.1715 - acc: 0.9392 - val_loss: 0.4297 - val_acc: 0.8858\n",
      "Epoch 8/20\n",
      "77/77 [==============================] - 12s 151ms/step - loss: 0.1661 - acc: 0.9387 - val_loss: 0.4259 - val_acc: 0.8795\n"
     ]
    }
   ],
   "source": [
    "batch_size = 50\n",
    "ms_history = ms_model.fit(X_train, y_train, epochs=20, batch_size=batch_size,validation_split=0.3,callbacks=[EarlyStopping(monitor='val_loss',patience=7, min_delta=0.0001)])"
   ]
  },
  {
   "cell_type": "code",
   "execution_count": 49,
   "metadata": {},
   "outputs": [
    {
     "name": "stdout",
     "output_type": "stream",
     "text": [
      "74/74 [==============================] - 2s 27ms/step - loss: 0.4468 - acc: 0.8773\n",
      "loss 0.44677942991256714\n",
      "accuracy 0.8772901296615601\n"
     ]
    }
   ],
   "source": [
    "loss, accuracy = ms_model.evaluate(X_test, y_test)\n",
    "print(\"loss\", loss)\n",
    "print(\"accuracy\", accuracy)\n"
   ]
  },
  {
   "cell_type": "code",
   "execution_count": 50,
   "metadata": {},
   "outputs": [
    {
     "data": {
      "text/plain": [
       "array([0.83673469, 0.86688312, 0.8801956 ])"
      ]
     },
     "execution_count": 50,
     "metadata": {},
     "output_type": "execute_result"
    }
   ],
   "source": [
    "precision = np.diag(con) / (np.diag(con) +(con.sum(axis=0) - np.diag(con)))\n",
    "precision"
   ]
  },
  {
   "cell_type": "code",
   "execution_count": null,
   "metadata": {},
   "outputs": [],
   "source": []
  }
 ],
 "metadata": {
  "kernelspec": {
   "display_name": "Python 3",
   "language": "python",
   "name": "python3"
  },
  "language_info": {
   "codemirror_mode": {
    "name": "ipython",
    "version": 3
   },
   "file_extension": ".py",
   "mimetype": "text/x-python",
   "name": "python",
   "nbconvert_exporter": "python",
   "pygments_lexer": "ipython3",
   "version": "3.8.8"
  }
 },
 "nbformat": 4,
 "nbformat_minor": 4
}
